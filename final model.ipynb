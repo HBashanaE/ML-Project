{
 "cells": [
  {
   "cell_type": "code",
   "execution_count": 30,
   "source": [
    "import numpy as np\r\n",
    "import pandas as pd\r\n",
    "import catboost\r\n",
    "import time\r\n",
    "\r\n",
    "from catboost import Pool, sum_models\r\n",
    "from sklearn.model_selection import train_test_split\r\n",
    "from sklearn.metrics import balanced_accuracy_score\r\n",
    "from catboost import CatBoostClassifier\r\n",
    "from sklearn.model_selection import StratifiedKFold"
   ],
   "outputs": [],
   "metadata": {}
  },
  {
   "cell_type": "code",
   "execution_count": 31,
   "source": [
    "VERSION = round(time.time())"
   ],
   "outputs": [],
   "metadata": {}
  },
  {
   "cell_type": "code",
   "execution_count": 32,
   "source": [
    "df_train_set = pd.read_csv('data/trainingValues.csv', index_col='id')\r\n",
    "df_train_labels = pd.read_csv('data/trainingLabels.csv', index_col='id')\r\n",
    "\r\n",
    "df_test = pd.read_csv('data/testValues.csv', index_col='id')"
   ],
   "outputs": [],
   "metadata": {}
  },
  {
   "cell_type": "code",
   "execution_count": 33,
   "source": [
    "np.testing.assert_array_equal(df_train_set.index.values, df_train_labels.index.values)"
   ],
   "outputs": [],
   "metadata": {}
  },
  {
   "cell_type": "code",
   "execution_count": 34,
   "source": [
    "joined_df = df_train_set.join(df_train_labels)"
   ],
   "outputs": [],
   "metadata": {}
  },
  {
   "cell_type": "code",
   "execution_count": 35,
   "source": [
    "def clean_funder(df):\r\n",
    "    \r\n",
    "    df['funder'] = df['funder'].astype(str).str.lower()\r\n",
    "    df['funder'].replace(\r\n",
    "        to_replace=(\r\n",
    "            'kkkt_makwale', 'kkkt-dioces ya pare', 'world vision/ kkkt', 'kkkt church',\r\n",
    "            'kkkt leguruki', 'kkkt ndrumangeni', 'kkkt dme', 'kkkt canal', 'kkkt usa',\r\n",
    "            'kkkt mareu'),\r\n",
    "        value='kkkt', inplace=True)\r\n",
    "    df['funder'].replace(\r\n",
    "        to_replace=(\r\n",
    "            'government of tanzania', 'norad /government', 'government/ community',\r\n",
    "            'cipro/government', 'isf/government', 'finidagermantanzania govt',\r\n",
    "            'government /tassaf', 'finida german tanzania govt', 'village government',\r\n",
    "            'tcrs /government', 'village govt', 'government/ world bank',\r\n",
    "            'danida /government', 'dhv/gove', 'concern /govern', 'vgovernment',\r\n",
    "            'lwi & central government', 'government /sda', 'koica and tanzania government',\r\n",
    "            'world bank/government', 'colonial government', 'misri government',\r\n",
    "            'government and community', 'concern/governm', 'government of misri',\r\n",
    "            'government/tassaf', 'government/school', 'government/tcrs', 'unhcr/government',\r\n",
    "            'government /world vision', 'norad/government'),\r\n",
    "        value='government', inplace=True)\r\n",
    "    df['funder'].replace(\r\n",
    "        to_replace=(\r\n",
    "            'british colonial government', 'japan government', 'china government',\r\n",
    "            'finland government', 'belgian government', 'italy government',\r\n",
    "            'irish government', 'egypt government', 'iran gover', 'swedish', 'finland'),\r\n",
    "        value='foreign government', inplace=True)\r\n",
    "    df['funder'].replace(\r\n",
    "        to_replace=(\r\n",
    "            'rc church', 'anglican church', 'rc churc', 'rc ch', 'rcchurch/cefa',\r\n",
    "            'irc', 'rc', 'churc', 'hw/rc', 'rc church/centr', 'pentecosta church',\r\n",
    "            'roman church', 'rc/mission', \"ju-sarang church' and bugango\",\r\n",
    "            'lutheran church', 'roman cathoric church', 'tag church ub', 'aic church',\r\n",
    "            'free pentecoste church of tanz', 'tag church', 'fpct church', 'rc cathoric',\r\n",
    "            'baptist church', 'morovian church', 'cefa/rcchurch', 'rc mission',\r\n",
    "            'bukwang church saints', 'agt church', 'church of disciples', 'rc mofu',\r\n",
    "            \"gil cafe'church'\", 'pentecostal church', 'bukwang church saint',\r\n",
    "            'eung am methodist church', 'rc/dwe', 'cg/rc', 'eung-am methodist church',\r\n",
    "            'rc missionary', 'sda church', 'methodist church', 'rc msufi',\r\n",
    "            'haidomu lutheran church', 'nazareth church', 'st magreth church',\r\n",
    "            'agape churc', 'rc missi', 'rc mi', 'rc njoro', 'world vision/rc church',\r\n",
    "            'pag church', 'batist church', 'full gospel church', 'nazalet church',\r\n",
    "            'dwe/anglican church', 'missi', 'mission', 'missionaries', 'cpps mission',\r\n",
    "            'cvs miss', 'grail mission kiseki bar', 'shelisheli commission', 'missionary',\r\n",
    "            'heri mission', 'german missionary', 'wamissionari wa kikatoriki',\r\n",
    "            'rc missionary', 'germany missionary', 'missio', 'neemia mission', 'rc missi',\r\n",
    "            'hydom luthelani', 'luthe', 'lutheran church',  'haydom lutheran hospital',\r\n",
    "            'village council/ haydom luther', 'lutheran', 'haidomu lutheran church',\r\n",
    "            'resolute golden pride project', 'resolute mininggolden pride',\r\n",
    "            'germany cristians'),\r\n",
    "        value='church', inplace=True)\r\n",
    "    df['funder'].replace(\r\n",
    "        to_replace=(\r\n",
    "            'olgilai village community', 'commu', 'community', 'arab community',\r\n",
    "            'sekei village community', 'arabs community', 'village community',\r\n",
    "            'mtuwasa and community', 'ilwilo community', 'igolola community',\r\n",
    "            'ngiresi village community', 'marumbo community', 'village communi',\r\n",
    "            'comune di roma', 'comunity construction fund', 'community bank',\r\n",
    "            \"oak'zion' and bugango b' commu\", 'kitiangare village community',\r\n",
    "            'oldadai village community', 'tlc/community', 'maseka community',\r\n",
    "            'islamic community',  'tcrs/village community', 'buluga subvillage community',\r\n",
    "            'okutu village community'),\r\n",
    "        value='community', inplace=True)\r\n",
    "    df['funder'].replace(\r\n",
    "        to_replace=(\r\n",
    "            'council', 'wb / district council', 'cdtfdistrict council',\r\n",
    "            'sangea district council', 'mheza distric counc', 'kyela council',\r\n",
    "            'kibaha town council', 'swidish', 'mbozi district council', \r\n",
    "            'village council/ rose kawala',  'songea municipal counci',\r\n",
    "            'quick win project /council', 'village council', 'villege council',\r\n",
    "            'tabora municipal council', 'kilindi district co', 'kigoma municipal council',\r\n",
    "            'district council', 'municipal council', 'district medical',\r\n",
    "            'sengerema district council', 'town council', 'mkinga  distric cou',\r\n",
    "            'songea district council', 'district rural project', 'mkinga distric coun',\r\n",
    "            'dadis'),\r\n",
    "        value='district', inplace=True)\r\n",
    "    df['funder'].replace(\r\n",
    "        to_replace=(\r\n",
    "            'tcrs.tlc', 'tcrs /care', 'tcrst', 'cipro/care/tcrs', 'tcrs/care', 'tcrs kibondo'),\r\n",
    "        value='tcrs', inplace=True)\r\n",
    "    df['funder'].replace(\r\n",
    "        to_replace=(\r\n",
    "            'fini water', 'finw', 'fin water', 'finn water', 'finwater'),\r\n",
    "        value='fini', inplace=True)\r\n",
    "    df['funder'].replace(\r\n",
    "        to_replace=(\r\n",
    "            'islamic', 'the isla', 'islamic found', 'islamic agency tanzania',\r\n",
    "            'islam', 'muislam', 'the islamic', 'nyabibuye islamic center', 'islamic society', 'african muslim agency',\r\n",
    "            'muslims', 'answeer muslim grou', 'muslimu society(shia)',\r\n",
    "            'unicef/african muslim agency', 'muslim world', 'muslimehefen international',\r\n",
    "            'shear muslim', 'muslim society'),\r\n",
    "        value='islam', inplace=True)\r\n",
    "    df['funder'].replace(\r\n",
    "        to_replace=('danida', 'ms-danish', 'unhcr/danida', 'tassaf/ danida'),\r\n",
    "        value='danida', inplace=True)\r\n",
    "    df['funder'].replace(\r\n",
    "        to_replace=(\r\n",
    "            'hesawa', 'hesawz', 'hesaw', 'hhesawa', 'hesawwa', 'hesawza', 'hesswa',\r\n",
    "            'hesawa and concern world wide'),\r\n",
    "        value='hesawa', inplace=True)\r\n",
    "    df['funder'].replace(\r\n",
    "        to_replace=('world vision/adra', 'game division', 'worldvision'),\r\n",
    "        value='world vision', inplace=True)\r\n",
    "    df['funder'].replace(\r\n",
    "        to_replace=(\r\n",
    "            'germany republi', 'a/co germany', 'aco/germany', 'bingo foundation germany',\r\n",
    "            'africa project ev germany', 'tree ways german'),\r\n",
    "        value='germany', inplace=True)\r\n",
    "    df['funder'].replace(to_replace=('0', 'nan', '-'), value='other', inplace=True)\r\n",
    "    df_funder_cnt = df.groupby('funder')['funder'].count()\r\n",
    "    other_list = df_funder_cnt[df_funder_cnt<98].index.tolist()\r\n",
    "    df['funder'].replace(to_replace=other_list, value='other', inplace=True)    "
   ],
   "outputs": [],
   "metadata": {}
  },
  {
   "cell_type": "code",
   "execution_count": 36,
   "source": [
    "def get_medians_df(df):\r\n",
    "    \r\n",
    "    df_geo = df.groupby(['region_code'])[['latitude', 'longitude']].median()\r\n",
    "    df_subvillage = df.groupby(['region_code'])['subvillage'].agg(pd.Series.mode)\r\n",
    "    df_scheme = df.groupby(['region'])['scheme_name'].agg(pd.Series.mode)\r\n",
    "    return df_geo, df_subvillage, df_scheme\r\n",
    "    \r\n",
    "    \r\n",
    "def geo_restore(df, df_geo):\r\n",
    "    \r\n",
    "    def geo_update(row, df_geo):\r\n",
    "        row['longitude'] = df_geo.loc[row['region_code']]['longitude']\r\n",
    "        row['latitude'] = df_geo.loc[row['region_code']]['latitude']\r\n",
    "        return row\r\n",
    "\r\n",
    "    df.loc[df['longitude']==0, ['longitude', 'latitude']] = \\\r\n",
    "        df[df['longitude']==0].apply(\r\n",
    "            geo_update, df_geo=df_geo, axis=1)[['longitude', 'latitude']]\r\n",
    "    \r\n",
    "    \r\n",
    "def scheme_restore(df, df_scheme):\r\n",
    "    \r\n",
    "    def scheme_update(row, df_scheme):\r\n",
    "        row['scheme_name'] = df_scheme[row['region']]\r\n",
    "        return row\r\n",
    "\r\n",
    "    df.loc[df['scheme_name'].isnull(), ['scheme_name']] = \\\r\n",
    "        df[df['scheme_name'].isnull()].apply(\r\n",
    "            scheme_update, df_scheme=df_scheme, axis=1)[['scheme_name']]\r\n",
    "    \r\n",
    "    \r\n",
    "def subvillage_restore(df, df_subvillage):\r\n",
    "\r\n",
    "    def subvillage_update(row, df_subvillage):\r\n",
    "        row['subvillage'] = df_subvillage[row['region_code']]\r\n",
    "        return row\r\n",
    "\r\n",
    "    df.loc[df['subvillage'].isnull(), ['subvillage']] = \\\r\n",
    "        df[df['subvillage'].isnull()].apply(\r\n",
    "            subvillage_update, df_subvillage=df_subvillage, axis=1)[['subvillage']]\r\n",
    "    \r\n",
    "    \r\n",
    "def get_medians(df):\r\n",
    "    \r\n",
    "    df_pm_median = df['public_meeting'].median()\r\n",
    "    df_permit_median = df['permit'].median()\r\n",
    "    return df_pm_median, df_permit_median\r\n",
    "    \r\n",
    "    \r\n",
    "def fill_na(df, df_pm_median, df_permit_median):\r\n",
    "    \r\n",
    "    df.loc[df['public_meeting'].isnull(), 'public_meeting'] = df_pm_median\r\n",
    "    df.loc[df['permit'].isnull(), 'permit'] = df_permit_median\r\n",
    "    \r\n",
    "    \r\n",
    "def create_na_features(df):    \r\n",
    "    \r\n",
    "    na_cols = ['subvillage', 'public_meeting', 'scheme_name', 'permit']\r\n",
    "    for c in na_cols:\r\n",
    "        df[f'c_na'] = df[c].isnull()  \r\n"
   ],
   "outputs": [],
   "metadata": {}
  },
  {
   "cell_type": "code",
   "execution_count": 37,
   "source": [
    "def drop(df):\r\n",
    "    \r\n",
    "    df.drop([\r\n",
    "        'installer',\r\n",
    "        'scheme_management', \r\n",
    "        'region_code', \r\n",
    "        'payment_type',\r\n",
    "        'date_recorded', 'recorded_by',\r\n",
    "        ],\r\n",
    "        axis=1, inplace=True)\r\n"
   ],
   "outputs": [],
   "metadata": {}
  },
  {
   "cell_type": "code",
   "execution_count": 38,
   "source": [
    "df_train = df_train_set.join(df_train_labels)\r\n",
    "clean_funder(df_train)\r\n",
    "df_geo, df_subvillage, df_scheme = get_medians_df(df_train)\r\n",
    "geo_restore(df_train, df_geo)\r\n",
    "subvillage_restore(df_train, df_subvillage)\r\n",
    "scheme_restore(df_train, df_scheme)\r\n",
    "create_na_features(df_train)\r\n",
    "df_pm_median, df_permit_median = get_medians(df_train)\r\n",
    "fill_na(df_train, df_pm_median, df_permit_median)\r\n",
    "drop(df_train)\r\n",
    "\r\n",
    "clean_funder(df_test)\r\n",
    "geo_restore(df_test, df_geo)\r\n",
    "subvillage_restore(df_test, df_subvillage)\r\n",
    "scheme_restore(df_test, df_scheme)\r\n",
    "create_na_features(df_test)\r\n",
    "fill_na(df_test, df_pm_median, df_permit_median)\r\n",
    "drop(df_test)"
   ],
   "outputs": [],
   "metadata": {}
  },
  {
   "cell_type": "code",
   "execution_count": 39,
   "source": [
    "df_train.nunique()"
   ],
   "outputs": [
    {
     "output_type": "execute_result",
     "data": {
      "text/plain": [
       "amount_tsh                  98\n",
       "funder                      84\n",
       "gps_height                2428\n",
       "longitude                57516\n",
       "latitude                 57517\n",
       "wpt_name                 37400\n",
       "num_private                 65\n",
       "basin                        9\n",
       "subvillage               19287\n",
       "region                      21\n",
       "district_code               20\n",
       "lga                        125\n",
       "ward                      2092\n",
       "population                1049\n",
       "public_meeting               2\n",
       "scheme_name               2696\n",
       "permit                       2\n",
       "construction_year           55\n",
       "extraction_type             18\n",
       "extraction_type_group       13\n",
       "extraction_type_class        7\n",
       "management                  12\n",
       "management_group             5\n",
       "payment                      7\n",
       "water_quality                8\n",
       "quality_group                6\n",
       "quantity                     5\n",
       "quantity_group               5\n",
       "source                      10\n",
       "source_type                  7\n",
       "source_class                 3\n",
       "waterpoint_type              7\n",
       "waterpoint_type_group        6\n",
       "status_group                 3\n",
       "c_na                         2\n",
       "dtype: int64"
      ]
     },
     "metadata": {},
     "execution_count": 39
    }
   ],
   "metadata": {}
  },
  {
   "cell_type": "code",
   "execution_count": 40,
   "source": [
    "def fit_model(train_pool, test_pool, **kwargs):\r\n",
    "    model = CatBoostClassifier(\r\n",
    "        max_ctr_complexity=5,\r\n",
    "        task_type='GPU',\r\n",
    "        iterations=10000,\r\n",
    "        eval_metric='AUC',\r\n",
    "        od_type='Iter',\r\n",
    "        loss_function='MultiClass',\r\n",
    "        one_hot_max_size=6,\r\n",
    "        od_wait=500,\r\n",
    "        classes_count=3,\r\n",
    "        **kwargs\r\n",
    "    )\r\n",
    "\r\n",
    "    return model.fit(\r\n",
    "        train_pool,\r\n",
    "        eval_set=test_pool,\r\n",
    "        verbose=1000,\r\n",
    "        plot=False,\r\n",
    "        use_best_model=True)"
   ],
   "outputs": [],
   "metadata": {}
  },
  {
   "cell_type": "code",
   "execution_count": 41,
   "source": [
    "num_cols = [\r\n",
    "    'amount_tsh', 'gps_height', 'longitude', 'latitude', 'num_private',\r\n",
    "    'district_code', 'population'\r\n",
    "]\r\n",
    "cat_features = [x for x in df_train.columns if x not in num_cols and x!='status_group']\r\n",
    "df_train[cat_features] = df_train[cat_features].astype('category')\r\n",
    "df_test[cat_features] = df_test[cat_features].astype('category')"
   ],
   "outputs": [],
   "metadata": {}
  },
  {
   "cell_type": "code",
   "execution_count": 42,
   "source": [
    "def classification_rate(y, y_pred):\r\n",
    "    return np.sum(y==y_pred)/len(y)"
   ],
   "outputs": [],
   "metadata": {}
  },
  {
   "cell_type": "code",
   "execution_count": 43,
   "source": [
    "from sklearn.model_selection import train_test_split\r\n",
    "\r\n",
    "X_train, X_test, y_train, y_test = train_test_split(df_train.drop(['status_group'], axis=1), df_train['status_group'], test_size=0.3, random_state=1)"
   ],
   "outputs": [],
   "metadata": {}
  },
  {
   "cell_type": "code",
   "execution_count": 44,
   "source": [
    "categorical_features_indices = np.where(X_train.dtypes != float)[0]"
   ],
   "outputs": [],
   "metadata": {}
  },
  {
   "cell_type": "code",
   "execution_count": 45,
   "source": [
    "model = CatBoostClassifier(\r\n",
    "    max_ctr_complexity=5,\r\n",
    "    task_type='GPU',\r\n",
    "    iterations=10000,\r\n",
    "    eval_metric='AUC',\r\n",
    "    od_type='Iter',\r\n",
    "    loss_function='MultiClass',\r\n",
    "    od_wait=1000,\r\n",
    "    cat_features=cat_features,\r\n",
    "    learning_rate=0.1,\r\n",
    "    l2_leaf_reg=1,\r\n",
    "    depth=6\r\n",
    ")\r\n",
    "\r\n",
    "model.fit(\r\n",
    "        X_train, y_train,\r\n",
    "        eval_set=(X_test, y_test),\r\n",
    "        cat_features=cat_features,\r\n",
    "        verbose=1000,\r\n",
    "        plot=False,\r\n",
    "        use_best_model=True\r\n",
    "        )\r\n"
   ],
   "outputs": [
    {
     "output_type": "stream",
     "name": "stderr",
     "text": [
      "AUC is not implemented on GPU. Will use CPU for metric computation, this could significantly affect learning time\n"
     ]
    },
    {
     "output_type": "stream",
     "name": "stdout",
     "text": [
      "0:\ttest: 0.6228763\tbest: 0.6228763 (0)\ttotal: 498ms\tremaining: 1h 23m 1s\n",
      "1000:\ttest: 0.9078072\tbest: 0.9078174 (990)\ttotal: 47.4s\tremaining: 7m 6s\n",
      "2000:\ttest: 0.9097246\tbest: 0.9102047 (1687)\ttotal: 1m 34s\tremaining: 6m 18s\n",
      "bestTest = 0.9102046864\n",
      "bestIteration = 1687\n",
      "Shrink model to first 1688 iterations.\n"
     ]
    },
    {
     "output_type": "execute_result",
     "data": {
      "text/plain": [
       "<catboost.core.CatBoostClassifier at 0x1929cd8b7c8>"
      ]
     },
     "metadata": {},
     "execution_count": 45
    }
   ],
   "metadata": {}
  },
  {
   "cell_type": "code",
   "execution_count": 50,
   "source": [
    "predictions = model.predict(X_test)"
   ],
   "outputs": [],
   "metadata": {}
  },
  {
   "cell_type": "code",
   "execution_count": 51,
   "source": [
    "from sklearn.metrics import classification_report\r\n",
    "print(classification_report(predictions, y_test))"
   ],
   "outputs": [
    {
     "output_type": "stream",
     "name": "stdout",
     "text": [
      "                         precision    recall  f1-score   support\n",
      "\n",
      "             functional       0.91      0.79      0.85     11079\n",
      "functional needs repair       0.26      0.62      0.36       519\n",
      "         non functional       0.76      0.84      0.80      6222\n",
      "\n",
      "               accuracy                           0.80     17820\n",
      "              macro avg       0.64      0.75      0.67     17820\n",
      "           weighted avg       0.84      0.80      0.82     17820\n",
      "\n"
     ]
    }
   ],
   "metadata": {}
  },
  {
   "cell_type": "code",
   "execution_count": 52,
   "source": [
    "m = model\r\n",
    "fea_imp = pd.DataFrame({'importance': m.feature_importances_,\r\n",
    "                        'col': m.feature_names_})\r\n",
    "fea_imp = fea_imp.sort_values(['importance', 'col'],\r\n",
    "                               ascending=[True, False]).iloc[-40:]\r\n",
    "fea_imp.plot(kind='barh', x='col', y='importance', figsize=(20, 20))"
   ],
   "outputs": [
    {
     "output_type": "execute_result",
     "data": {
      "text/plain": [
       "<AxesSubplot:ylabel='col'>"
      ]
     },
     "metadata": {},
     "execution_count": 52
    },
    {
     "output_type": "display_data",
     "data": {
      "image/png": "[encoded data removed]",
      "text/plain": [
       "<Figure size 1440x1440 with 1 Axes>"
      ]
     },
     "metadata": {
      "needs_background": "light"
     }
    }
   ],
   "metadata": {}
  },
  {
   "cell_type": "code",
   "execution_count": 53,
   "source": [
    "print(f\"balanced accuracy: {balanced_accuracy_score(y_test, predictions)}\")\r\n",
    "class_rate = classification_rate(y_test, predictions[:,0])\r\n",
    "print(f\"classification rate: {class_rate}\")"
   ],
   "outputs": [
    {
     "output_type": "stream",
     "name": "stdout",
     "text": [
      "balanced accuracy: 0.641291832227314\n",
      "classification rate: 0.8046576879910213\n"
     ]
    }
   ],
   "metadata": {}
  },
  {
   "cell_type": "code",
   "execution_count": null,
   "source": [
    "model.fit(\r\n",
    "        df_train.drop(['status_group'], axis=1), df_train['status_group'],\r\n",
    "        cat_features=cat_features,\r\n",
    "        verbose=1000,\r\n",
    "        plot=False\r\n",
    "        )"
   ],
   "outputs": [],
   "metadata": {}
  },
  {
   "cell_type": "code",
   "execution_count": 112,
   "source": [
    "predictions = model.predict(df_test)"
   ],
   "outputs": [],
   "metadata": {}
  },
  {
   "cell_type": "code",
   "execution_count": 113,
   "source": [
    "sub = pd.read_csv(\"data/SubmissionFormat.csv\", index_col='id')\r\n",
    "sub['status_group'] = predictions[:,0]\r\n",
    "sub.to_csv(f\"submissions/submission_catboost_{round(class_rate, 4)}.csv\", index=True)"
   ],
   "outputs": [],
   "metadata": {}
  },
  {
   "cell_type": "code",
   "execution_count": null,
   "source": [],
   "outputs": [],
   "metadata": {}
  }
 ],
 "metadata": {
  "orig_nbformat": 4,
  "language_info": {
   "name": "python",
   "version": "3.7.10",
   "mimetype": "text/x-python",
   "codemirror_mode": {
    "name": "ipython",
    "version": 3
   },
   "pygments_lexer": "ipython3",
   "nbconvert_exporter": "python",
   "file_extension": ".py"
  },
  "kernelspec": {
   "name": "python3",
   "display_name": "Python 3.7.10 64-bit ('pyTorchEnv': conda)"
  },
  "interpreter": {
   "hash": "08465013b2823437a432090d36168a052ea896abae7de49d932d83247487b1e3"
  }
 },
 "nbformat": 4,
 "nbformat_minor": 2
}