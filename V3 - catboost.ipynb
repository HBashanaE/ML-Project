{
 "cells": [
  {
   "cell_type": "code",
   "execution_count": 1,
   "source": [
    "import numpy as np\r\n",
    "import pandas as pd\r\n",
    "import catboost\r\n",
    "import time\r\n",
    "\r\n",
    "from catboost import Pool, sum_models\r\n",
    "from sklearn.model_selection import train_test_split\r\n",
    "from sklearn.metrics import balanced_accuracy_score\r\n",
    "from catboost import CatBoostClassifier\r\n",
    "from sklearn.model_selection import StratifiedKFold"
   ],
   "outputs": [],
   "metadata": {}
  },
  {
   "cell_type": "code",
   "execution_count": 2,
   "source": [
    "FOLDS = 10\r\n",
    "SEEDS = [0, 42, 888, 1042, 8888]\r\n",
    "VERSION = round(time.time())"
   ],
   "outputs": [],
   "metadata": {}
  },
  {
   "cell_type": "code",
   "execution_count": 3,
   "source": [
    "df_train_set = pd.read_csv('data/trainingValues.csv', index_col='id')\r\n",
    "df_train_labels = pd.read_csv('data/trainingLabels.csv', index_col='id')\r\n",
    "\r\n",
    "df_test = pd.read_csv('data/testValues.csv', index_col='id')"
   ],
   "outputs": [],
   "metadata": {}
  },
  {
   "cell_type": "code",
   "execution_count": 4,
   "source": [
    "np.testing.assert_array_equal(df_train_set.index.values, df_train_labels.index.values)"
   ],
   "outputs": [],
   "metadata": {}
  },
  {
   "cell_type": "code",
   "execution_count": 5,
   "source": [
    "joined_df = df_train_set.join(df_train_labels)"
   ],
   "outputs": [],
   "metadata": {}
  },
  {
   "cell_type": "code",
   "execution_count": 11,
   "source": [
    "def clean_installer(df):\r\n",
    "\r\n",
    "    df['installer'] = df['installer'].astype(str).str.lower()\r\n",
    "    df['installer'].replace(\r\n",
    "        to_replace=(\r\n",
    "            'fini water', 'fin water', 'finn water', 'finwater', 'finwate'),\r\n",
    "        value='finw', inplace=True)\r\n",
    "    df['installer'].replace(to_replace=('jaica co'), value='jaica', inplace=True)\r\n",
    "    df['installer'].replace(\r\n",
    "        to_replace=(\r\n",
    "            'district water department', 'district water depar', 'district council',\r\n",
    "            'district counci', 'village council orpha','kibaha town council',\r\n",
    "            'village council', 'coun', 'village counil', 'council',\r\n",
    "            'mbulu district council', 'counc', 'village council .oda',\r\n",
    "            'sangea district coun', 'songea district coun', 'villege council',\r\n",
    "            'district  council', 'quick win project /council', 'mbozi district council',\r\n",
    "            'village  council', 'municipal council', 'tabora municipal council',\r\n",
    "            'wb / district council'),\r\n",
    "        value='council', inplace=True)\r\n",
    "    df['installer'].replace(\r\n",
    "        to_replace=(\r\n",
    "            'rc church', 'rc churc', 'rcchurch/cefa', 'irc', 'rc', 'rc ch', 'hw/rc',\r\n",
    "            'rc church/central gover', 'kkkt church', 'pentecost church', 'roman church',\r\n",
    "            'rc/mission', 'rc church/cefa', 'lutheran church', 'tag church',\r\n",
    "            'free pentecoste church of tanz', 'rc c', 'church', 'rc cathoric',\r\n",
    "            'morovian church', 'cefa/rc church', 'rc mission', 'anglican church',\r\n",
    "            'church of disciples', 'anglikana church', 'cetral government /rc',\r\n",
    "            'pentecostal church', 'cg/rc', 'rc missionary', 'sda church', 'methodist church', 'trc',\r\n",
    "            'rc msufi', 'haidomu lutheran church', 'baptist church', 'rc church brother',\r\n",
    "            'st magreth church', 'anglica church', 'global resource co', 'rc mi',\r\n",
    "            'baptist church of tanzania', 'fpct church', 'rc njoro', 'rc .church',\r\n",
    "            'rc mis', 'batist church', 'churc', 'dwe/anglican church','missi', 'mission',\r\n",
    "            'ndanda missions', 'rc/mission', 'cvs miss', 'missionaries', 'hydom luthelani',\r\n",
    "            'luthe', 'haydom lutheran hospital', 'lutheran', 'missio', 'germany missionary',\r\n",
    "            'grail mission kiseki bar', 'missionary', 'heri mission', 'german missionsry',\r\n",
    "            'wamissionari wa kikatoriki', 'neemia mission', 'wamisionari wa kikatoriki'),\r\n",
    "        value='church', inplace=True)\r\n",
    "    df['installer'].replace(\r\n",
    "        to_replace=(\r\n",
    "            'central government', 'gove', 'central govt', 'gover', 'cipro/government',\r\n",
    "            'governme', 'adra /government', 'isf/government', 'adra/government',\r\n",
    "            'government /tcrs', 'village govt', 'government', 'government /community',\r\n",
    "            'concern /government', 'goverm', 'village government', 'cental government',\r\n",
    "            'govern', 'cebtral government', 'government /sda', 'tcrs /government',\r\n",
    "            'tanzania government', 'centra govt', 'colonial government', 'misri government',\r\n",
    "            'government and community', 'cetral government /rc', 'concern/government',\r\n",
    "            'government of misri', 'lwi &central government', 'governmen', 'government/tcrs', 'government /world vision',\r\n",
    "            'centra government'),\r\n",
    "        value='tanzanian government', inplace=True)\r\n",
    "    df['installer'].replace(\r\n",
    "        to_replace=(\r\n",
    "            'world vission', 'world division', 'word divisio','world visiin'),\r\n",
    "        value='world vision', inplace=True)\r\n",
    "    df['installer'].replace(to_replace=('unicrf'), value='unicef', inplace=True)\r\n",
    "    df['installer'].replace(\r\n",
    "        to_replace=(\r\n",
    "            'commu', 'olgilai village community', 'adra /community', 'adra/community',\r\n",
    "            'rwe/ community', 'killflora /community', 'communit', 'taboma/community',\r\n",
    "            'arab community', 'adra/ community', 'sekei village community', 'rwe/community',\r\n",
    "            'arabs community', 'village community', 'government /community',\r\n",
    "            'dads/village community', 'killflora/ community', 'mtuwasa and community',\r\n",
    "            'rwe /community', 'ilwilo community', 'summit for water/community',\r\n",
    "            'igolola community', 'ngiresi village community', 'rwe community',\r\n",
    "            'african realief committe of ku', 'twesa /community', 'shelisheli commission',\r\n",
    "            'twesa/ community', 'marumbo community', 'government and community',\r\n",
    "            'community bank', 'kitiangare village community', 'oldadai village community',\r\n",
    "            'twesa/community', 'tlc/community', 'maseka community', 'islamic community',\r\n",
    "            'district community j', 'village water commission', 'village community members',\r\n",
    "            'tcrs/village community', 'village water committee', 'comunity'),\r\n",
    "        value='community', inplace=True)\r\n",
    "    df['installer'].replace(\r\n",
    "        to_replace=(\r\n",
    "            'danid', 'danda','danida co', 'danny', 'daniad', 'dannida', 'danids'),\r\n",
    "        value='danida', inplace=True)\r\n",
    "    df['installer'].replace(\r\n",
    "        to_replace=(\r\n",
    "            'hesaws', 'huches', 'hesaw', 'hesawz', 'hesawq', 'hesewa'),\r\n",
    "        value='hesawa', inplace=True)\r\n",
    "    df['installer'].replace(\r\n",
    "        to_replace=(\r\n",
    "            'dwsp', 'kkkt _ konde and dwe', 'rwe/dwe', 'rwedwe', 'dwe/', 'dw', 'dwr',\r\n",
    "            'dwe}', 'dwt', 'dwe /tassaf', 'dwe/ubalozi wa marekani', 'consultant and dwe',\r\n",
    "            'dwe & lwi', 'ubalozi wa marekani /dwe', 'dwe&', 'dwe/tassaf', 'dw$',\r\n",
    "            'dw e', 'tcrs/dwe', 'dw#', 'dweb', 'tcrs /dwe', 'water aid/dwe', 'dww'),\r\n",
    "        value='dwe', inplace=True)\r\n",
    "    df['installer'].replace(\r\n",
    "        to_replace=(\r\n",
    "            'africa muslim', 'muslimu society(shia)', 'africa muslim agenc',\r\n",
    "            'african muslims age', 'muslimehefen international','islamic',\r\n",
    "            'the isla', 'islamic agency tanzania',  'islam', 'nyabibuye islamic center'),\r\n",
    "        value='muslims', inplace=True)\r\n",
    "    df['installer'].replace(\r\n",
    "        to_replace=(\r\n",
    "            'british colonial government', 'british government', 'britain'),\r\n",
    "        value='british', inplace=True)\r\n",
    "    df['installer'].replace(\r\n",
    "        to_replace=(\r\n",
    "            'tcrs/tlc', 'tcrs /care', 'cipro/care/tcrs', 'tcrs kibondo', 'tcrs.tlc',\r\n",
    "            'tcrs /twesa', 'tassaf /tcrs', 'tcrs/care', 'tcrs twesa', 'rwe/tcrs',\r\n",
    "            'tcrs/twesa', 'tassaf/ tcrs', 'tcrs/ tassaf', 'tcrs/ twesa', 'tcrs a',\r\n",
    "            'tassaf/tcrs'),\r\n",
    "        value='tcrs', inplace=True)\r\n",
    "    df['installer'].replace(\r\n",
    "        to_replace=(\r\n",
    "            'kkkt-dioces ya pare', 'kkkt leguruki', 'kkkt ndrumangeni', 'kkkt dme',\r\n",
    "            'kkkt kilinga', 'kkkt canal', 'kkkt katiti juu', 'kkkt mareu'),\r\n",
    "        value='kkkt', inplace=True)\r\n",
    "    df['installer'].replace(to_replace=('norad/'), value='norad', inplace=True)\r\n",
    "    df['installer'].replace( to_replace=('tasaf/dmdd', 'dmdd/solider'),\r\n",
    "        value='dmdd', inplace=True)\r\n",
    "    df['installer'].replace(\r\n",
    "        to_replace=('cjejow construction', 'cjej0'), value='cjejow', inplace=True)\r\n",
    "    df['installer'].replace(\r\n",
    "        to_replace=(\r\n",
    "            'china henan constuction', 'china henan contractor', 'china co.', 'chinese'),\r\n",
    "        value='china', inplace=True)\r\n",
    "    df['installer'].replace(\r\n",
    "        to_replace=(\r\n",
    "            'local contract', 'local technician', 'local', 'local  technician',\r\n",
    "            'locall technician', 'local te', 'local technitian', 'local technical tec',\r\n",
    "            'local fundi', 'local technical', 'localtechnician', 'village local contractor',\r\n",
    "            'local l technician'),\r\n",
    "        value='local', inplace=True)\r\n",
    "    df['installer'].replace(\r\n",
    "        to_replace=(\r\n",
    "            'oikos e .africa', 'oikos e.africa', 'africa amini alama',\r\n",
    "            'africa islamic agency tanzania', 'africare', 'african development foundation',\r\n",
    "            'oikos e. africa', 'oikos e.afrika', 'afroz ismail', 'africa', 'farm-africa',\r\n",
    "            'oikos e africa', 'farm africa', 'africaone', 'tina/africare', 'africaone ltd',\r\n",
    "            'african reflections foundation', 'africa m'),\r\n",
    "        value='africa', inplace=True)\r\n",
    "    df['installer'].replace(to_replace=('0', 'nan', '-'), value='other', inplace=True)\r\n",
    "    df_installer_cnt = df.groupby('installer')['installer'].count()\r\n",
    "    other_list = df_installer_cnt[df_installer_cnt<71].index.tolist()\r\n",
    "    df['installer'].replace(to_replace=other_list, value='other', inplace=True)"
   ],
   "outputs": [],
   "metadata": {}
  },
  {
   "cell_type": "code",
   "execution_count": 12,
   "source": [
    "def clean_funder(df):\r\n",
    "    \r\n",
    "    df['funder'] = df['funder'].astype(str).str.lower()\r\n",
    "    df['funder'].replace(\r\n",
    "        to_replace=(\r\n",
    "            'kkkt_makwale', 'kkkt-dioces ya pare', 'world vision/ kkkt', 'kkkt church',\r\n",
    "            'kkkt leguruki', 'kkkt ndrumangeni', 'kkkt dme', 'kkkt canal', 'kkkt usa',\r\n",
    "            'kkkt mareu'),\r\n",
    "        value='kkkt', inplace=True)\r\n",
    "    df['funder'].replace(\r\n",
    "        to_replace=(\r\n",
    "            'government of tanzania', 'norad /government', 'government/ community',\r\n",
    "            'cipro/government', 'isf/government', 'finidagermantanzania govt',\r\n",
    "            'government /tassaf', 'finida german tanzania govt', 'village government',\r\n",
    "            'tcrs /government', 'village govt', 'government/ world bank',\r\n",
    "            'danida /government', 'dhv/gove', 'concern /govern', 'vgovernment',\r\n",
    "            'lwi & central government', 'government /sda', 'koica and tanzania government',\r\n",
    "            'world bank/government', 'colonial government', 'misri government',\r\n",
    "            'government and community', 'concern/governm', 'government of misri',\r\n",
    "            'government/tassaf', 'government/school', 'government/tcrs', 'unhcr/government',\r\n",
    "            'government /world vision', 'norad/government'),\r\n",
    "        value='government', inplace=True)\r\n",
    "    df['funder'].replace(\r\n",
    "        to_replace=(\r\n",
    "            'british colonial government', 'japan government', 'china government',\r\n",
    "            'finland government', 'belgian government', 'italy government',\r\n",
    "            'irish government', 'egypt government', 'iran gover', 'swedish', 'finland'),\r\n",
    "        value='foreign government', inplace=True)\r\n",
    "    df['funder'].replace(\r\n",
    "        to_replace=(\r\n",
    "            'rc church', 'anglican church', 'rc churc', 'rc ch', 'rcchurch/cefa',\r\n",
    "            'irc', 'rc', 'churc', 'hw/rc', 'rc church/centr', 'pentecosta church',\r\n",
    "            'roman church', 'rc/mission', \"ju-sarang church' and bugango\",\r\n",
    "            'lutheran church', 'roman cathoric church', 'tag church ub', 'aic church',\r\n",
    "            'free pentecoste church of tanz', 'tag church', 'fpct church', 'rc cathoric',\r\n",
    "            'baptist church', 'morovian church', 'cefa/rcchurch', 'rc mission',\r\n",
    "            'bukwang church saints', 'agt church', 'church of disciples', 'rc mofu',\r\n",
    "            \"gil cafe'church'\", 'pentecostal church', 'bukwang church saint',\r\n",
    "            'eung am methodist church', 'rc/dwe', 'cg/rc', 'eung-am methodist church',\r\n",
    "            'rc missionary', 'sda church', 'methodist church', 'rc msufi',\r\n",
    "            'haidomu lutheran church', 'nazareth church', 'st magreth church',\r\n",
    "            'agape churc', 'rc missi', 'rc mi', 'rc njoro', 'world vision/rc church',\r\n",
    "            'pag church', 'batist church', 'full gospel church', 'nazalet church',\r\n",
    "            'dwe/anglican church', 'missi', 'mission', 'missionaries', 'cpps mission',\r\n",
    "            'cvs miss', 'grail mission kiseki bar', 'shelisheli commission', 'missionary',\r\n",
    "            'heri mission', 'german missionary', 'wamissionari wa kikatoriki',\r\n",
    "            'rc missionary', 'germany missionary', 'missio', 'neemia mission', 'rc missi',\r\n",
    "            'hydom luthelani', 'luthe', 'lutheran church',  'haydom lutheran hospital',\r\n",
    "            'village council/ haydom luther', 'lutheran', 'haidomu lutheran church',\r\n",
    "            'resolute golden pride project', 'resolute mininggolden pride',\r\n",
    "            'germany cristians'),\r\n",
    "        value='church', inplace=True)\r\n",
    "    df['funder'].replace(\r\n",
    "        to_replace=(\r\n",
    "            'olgilai village community', 'commu', 'community', 'arab community',\r\n",
    "            'sekei village community', 'arabs community', 'village community',\r\n",
    "            'mtuwasa and community', 'ilwilo community', 'igolola community',\r\n",
    "            'ngiresi village community', 'marumbo community', 'village communi',\r\n",
    "            'comune di roma', 'comunity construction fund', 'community bank',\r\n",
    "            \"oak'zion' and bugango b' commu\", 'kitiangare village community',\r\n",
    "            'oldadai village community', 'tlc/community', 'maseka community',\r\n",
    "            'islamic community',  'tcrs/village community', 'buluga subvillage community',\r\n",
    "            'okutu village community'),\r\n",
    "        value='community', inplace=True)\r\n",
    "    df['funder'].replace(\r\n",
    "        to_replace=(\r\n",
    "            'council', 'wb / district council', 'cdtfdistrict council',\r\n",
    "            'sangea district council', 'mheza distric counc', 'kyela council',\r\n",
    "            'kibaha town council', 'swidish', 'mbozi district council', \r\n",
    "            'village council/ rose kawala',  'songea municipal counci',\r\n",
    "            'quick win project /council', 'village council', 'villege council',\r\n",
    "            'tabora municipal council', 'kilindi district co', 'kigoma municipal council',\r\n",
    "            'district council', 'municipal council', 'district medical',\r\n",
    "            'sengerema district council', 'town council', 'mkinga  distric cou',\r\n",
    "            'songea district council', 'district rural project', 'mkinga distric coun',\r\n",
    "            'dadis'),\r\n",
    "        value='district', inplace=True)\r\n",
    "    df['funder'].replace(\r\n",
    "        to_replace=(\r\n",
    "            'tcrs.tlc', 'tcrs /care', 'tcrst', 'cipro/care/tcrs', 'tcrs/care', 'tcrs kibondo'),\r\n",
    "        value='tcrs', inplace=True)\r\n",
    "    df['funder'].replace(\r\n",
    "        to_replace=(\r\n",
    "            'fini water', 'finw', 'fin water', 'finn water', 'finwater'),\r\n",
    "        value='fini', inplace=True)\r\n",
    "    df['funder'].replace(\r\n",
    "        to_replace=(\r\n",
    "            'islamic', 'the isla', 'islamic found', 'islamic agency tanzania',\r\n",
    "            'islam', 'muislam', 'the islamic', 'nyabibuye islamic center', 'islamic society', 'african muslim agency',\r\n",
    "            'muslims', 'answeer muslim grou', 'muslimu society(shia)',\r\n",
    "            'unicef/african muslim agency', 'muslim world', 'muslimehefen international',\r\n",
    "            'shear muslim', 'muslim society'),\r\n",
    "        value='islam', inplace=True)\r\n",
    "    df['funder'].replace(\r\n",
    "        to_replace=('danida', 'ms-danish', 'unhcr/danida', 'tassaf/ danida'),\r\n",
    "        value='danida', inplace=True)\r\n",
    "    df['funder'].replace(\r\n",
    "        to_replace=(\r\n",
    "            'hesawa', 'hesawz', 'hesaw', 'hhesawa', 'hesawwa', 'hesawza', 'hesswa',\r\n",
    "            'hesawa and concern world wide'),\r\n",
    "        value='hesawa', inplace=True)\r\n",
    "    df['funder'].replace(\r\n",
    "        to_replace=('world vision/adra', 'game division', 'worldvision'),\r\n",
    "        value='world vision', inplace=True)\r\n",
    "    df['funder'].replace(\r\n",
    "        to_replace=(\r\n",
    "            'germany republi', 'a/co germany', 'aco/germany', 'bingo foundation germany',\r\n",
    "            'africa project ev germany', 'tree ways german'),\r\n",
    "        value='germany', inplace=True)\r\n",
    "    df['funder'].replace(to_replace=('0', 'nan', '-'), value='other', inplace=True)\r\n",
    "    df_funder_cnt = df.groupby('funder')['funder'].count()\r\n",
    "    other_list = df_funder_cnt[df_funder_cnt<98].index.tolist()\r\n",
    "    df['funder'].replace(to_replace=other_list, value='other', inplace=True)    "
   ],
   "outputs": [],
   "metadata": {}
  },
  {
   "cell_type": "code",
   "execution_count": 13,
   "source": [
    "def get_medians_df(df):\r\n",
    "    \r\n",
    "    df_geo = df.groupby(['region_code'])[['latitude', 'longitude']].median()\r\n",
    "    df_subvillage = df.groupby(['region_code'])['subvillage'].agg(pd.Series.mode)\r\n",
    "    df_scheme = df.groupby(['region'])['scheme_name'].agg(pd.Series.mode)\r\n",
    "    return df_geo, df_subvillage, df_scheme\r\n",
    "    \r\n",
    "    \r\n",
    "def geo_restore(df, df_geo):\r\n",
    "    \r\n",
    "    def geo_update(row, df_geo):\r\n",
    "        row['longitude'] = df_geo.loc[row['region_code']]['longitude']\r\n",
    "        row['latitude'] = df_geo.loc[row['region_code']]['latitude']\r\n",
    "        return row\r\n",
    "\r\n",
    "    df.loc[df['longitude']==0, ['longitude', 'latitude']] = \\\r\n",
    "        df[df['longitude']==0].apply(\r\n",
    "            geo_update, df_geo=df_geo, axis=1)[['longitude', 'latitude']]\r\n",
    "    \r\n",
    "    \r\n",
    "def scheme_restore(df, df_scheme):\r\n",
    "    \r\n",
    "    def scheme_update(row, df_scheme):\r\n",
    "        row['scheme_name'] = df_scheme[row['region']]\r\n",
    "        return row\r\n",
    "\r\n",
    "    df.loc[df['scheme_name'].isnull(), ['scheme_name']] = \\\r\n",
    "        df[df['scheme_name'].isnull()].apply(\r\n",
    "            scheme_update, df_scheme=df_scheme, axis=1)[['scheme_name']]\r\n",
    "    \r\n",
    "    \r\n",
    "def subvillage_restore(df, df_subvillage):\r\n",
    "\r\n",
    "    def subvillage_update(row, df_subvillage):\r\n",
    "        row['subvillage'] = df_subvillage[row['region_code']]\r\n",
    "        return row\r\n",
    "\r\n",
    "    df.loc[df['subvillage'].isnull(), ['subvillage']] = \\\r\n",
    "        df[df['subvillage'].isnull()].apply(\r\n",
    "            subvillage_update, df_subvillage=df_subvillage, axis=1)[['subvillage']]\r\n",
    "    \r\n",
    "    \r\n",
    "def get_medians(df):\r\n",
    "    \r\n",
    "    df_pm_median = df['public_meeting'].median()\r\n",
    "    df_permit_median = df['permit'].median()\r\n",
    "    return df_pm_median, df_permit_median\r\n",
    "    \r\n",
    "    \r\n",
    "def fill_na(df, df_pm_median, df_permit_median):\r\n",
    "    \r\n",
    "    df.loc[df['public_meeting'].isnull(), 'public_meeting'] = df_pm_median\r\n",
    "    df.loc[df['permit'].isnull(), 'permit'] = df_permit_median\r\n",
    "    \r\n",
    "    \r\n",
    "def create_na_features(df):    \r\n",
    "    \r\n",
    "    na_cols = ['subvillage', 'public_meeting', 'scheme_name', 'permit']\r\n",
    "    for c in na_cols:\r\n",
    "        df[f'c_na'] = df[c].isnull()  \r\n"
   ],
   "outputs": [],
   "metadata": {}
  },
  {
   "cell_type": "code",
   "execution_count": 14,
   "source": [
    "def drop(df):\r\n",
    "    \r\n",
    "    df.drop([\r\n",
    "        'scheme_management', 'quantity_group', 'water_quality', 'region_code', 'payment_type',\r\n",
    "        'extraction_type', 'waterpoint_type_group', 'date_recorded', 'recorded_by'],\r\n",
    "        axis=1, inplace=True)\r\n"
   ],
   "outputs": [],
   "metadata": {}
  },
  {
   "cell_type": "code",
   "execution_count": 15,
   "source": [
    "df_train = df_train_set.join(df_train_labels)\r\n",
    "clean_installer(df_train)\r\n",
    "clean_funder(df_train)\r\n",
    "df_geo, df_subvillage, df_scheme = get_medians_df(df_train)\r\n",
    "geo_restore(df_train, df_geo)\r\n",
    "subvillage_restore(df_train, df_subvillage)\r\n",
    "scheme_restore(df_train, df_scheme)\r\n",
    "create_na_features(df_train)\r\n",
    "df_pm_median, df_permit_median = get_medians(df_train)\r\n",
    "fill_na(df_train, df_pm_median, df_permit_median)\r\n",
    "drop(df_train)\r\n",
    "\r\n",
    "clean_installer(df_test)\r\n",
    "clean_funder(df_test)\r\n",
    "geo_restore(df_test, df_geo)\r\n",
    "subvillage_restore(df_test, df_subvillage)\r\n",
    "scheme_restore(df_test, df_scheme)\r\n",
    "create_na_features(df_test)\r\n",
    "fill_na(df_test, df_pm_median, df_permit_median)\r\n",
    "drop(df_test)"
   ],
   "outputs": [],
   "metadata": {}
  },
  {
   "cell_type": "code",
   "execution_count": 16,
   "source": [
    "def fit_model(train_pool, test_pool, **kwargs):\r\n",
    "    model = CatBoostClassifier(\r\n",
    "        max_ctr_complexity=5,\r\n",
    "        task_type='GPU',\r\n",
    "        iterations=10000,\r\n",
    "        eval_metric='AUC',\r\n",
    "        od_type='Iter',\r\n",
    "        od_wait=500,\r\n",
    "        **kwargs\r\n",
    "    )\r\n",
    "\r\n",
    "    return model.fit(\r\n",
    "        train_pool,\r\n",
    "        eval_set=test_pool,\r\n",
    "        verbose=1000,\r\n",
    "        plot=False,\r\n",
    "        use_best_model=True)"
   ],
   "outputs": [],
   "metadata": {}
  },
  {
   "cell_type": "code",
   "execution_count": 17,
   "source": [
    "num_cols = [\r\n",
    "    'amount_tsh', 'gps_height', 'longitude', 'latitude', 'num_private',\r\n",
    "    'district_code', 'population'\r\n",
    "]\r\n",
    "cat_features = [x for x in df_train.columns if x not in num_cols and x!='status_group']\r\n",
    "df_train[cat_features] = df_train[cat_features].astype('category')\r\n",
    "df_test[cat_features] = df_test[cat_features].astype('category')"
   ],
   "outputs": [],
   "metadata": {}
  },
  {
   "cell_type": "code",
   "execution_count": 18,
   "source": [
    "def classification_rate(y, y_pred):\r\n",
    "    return np.sum(y==y_pred)/len(y)"
   ],
   "outputs": [],
   "metadata": {}
  },
  {
   "cell_type": "code",
   "execution_count": 19,
   "source": [
    "def get_oof(n_folds, x_train, y, x_test, cat_features, seeds):\r\n",
    "    \r\n",
    "    ntrain = x_train.shape[0]\r\n",
    "    ntest = x_test.shape[0]  \r\n",
    "        \r\n",
    "    oof_train = np.zeros((len(seeds), ntrain, 3))\r\n",
    "    oof_test = np.zeros((ntest, 3))\r\n",
    "    oof_test_skf = np.empty((len(seeds), n_folds, ntest, 3))\r\n",
    "    \r\n",
    "    test_pool = Pool(data=x_test, cat_features=cat_features) \r\n",
    "    models = {}\r\n",
    "    \r\n",
    "    for iseed, seed in enumerate(seeds):\r\n",
    "        kf = StratifiedKFold(\r\n",
    "            n_splits=n_folds,\r\n",
    "            shuffle=True,\r\n",
    "            random_state=seed)          \r\n",
    "        for i, (train_index, test_index) in enumerate(kf.split(x_train, y)):\r\n",
    "            print(f'\\nSeed {seed}, Fold {i}')\r\n",
    "            x_tr = x_train.iloc[train_index, :]\r\n",
    "            y_tr = y[train_index]\r\n",
    "            x_te = x_train.iloc[test_index, :]\r\n",
    "            y_te = y[test_index]\r\n",
    "            train_pool = Pool(data=x_tr, label=y_tr, cat_features=cat_features)\r\n",
    "            valid_pool = Pool(data=x_te, label=y_te, cat_features=cat_features) \r\n",
    "\r\n",
    "            model = fit_model(\r\n",
    "                train_pool, valid_pool,\r\n",
    "                loss_function='MultiClass',\r\n",
    "                random_seed=seed\r\n",
    "            )\r\n",
    "            oof_train[iseed, test_index, :] = model.predict_proba(x_te)\r\n",
    "            oof_test_skf[iseed, i, :, :] = model.predict_proba(x_test)\r\n",
    "            models[(seed, i)] = model\r\n",
    "            model.save_model(\r\n",
    "                f\"cb_{seed}_{i}_{VERSION}.cbm\",\r\n",
    "                format=\"cbm\", export_parameters=None, pool=None)\r\n",
    "\r\n",
    "    oof_test[:, :] = oof_test_skf.mean(axis=1).mean(axis=0)\r\n",
    "    oof_train = oof_train.mean(axis=0)\r\n",
    "    return oof_train, oof_test, models"
   ],
   "outputs": [],
   "metadata": {}
  },
  {
   "cell_type": "code",
   "execution_count": 20,
   "source": [
    "y_train, X_train = df_train['status_group'], df_train.drop(['status_group'], axis=1)\r\n",
    "\r\n",
    "oof_train, oof_test, models = get_oof(\r\n",
    "    n_folds=FOLDS,\r\n",
    "    x_train=X_train,\r\n",
    "    y=y_train.values,\r\n",
    "    x_test=df_test,\r\n",
    "    cat_features=cat_features,\r\n",
    "    seeds=SEEDS)"
   ],
   "outputs": [
    {
     "output_type": "stream",
     "name": "stdout",
     "text": [
      "\n",
      "Seed 0, Fold 0\n",
      "Learning rate set to 0.05746\n"
     ]
    },
    {
     "output_type": "stream",
     "name": "stderr",
     "text": [
      "AUC is not implemented on GPU. Will use CPU for metric computation, this could significantly affect learning time\n"
     ]
    },
    {
     "output_type": "stream",
     "name": "stdout",
     "text": [
      "0:\ttest: 0.6235972\tbest: 0.6235972 (0)\ttotal: 201ms\tremaining: 33m 25s\n",
      "1000:\ttest: 0.9001534\tbest: 0.9001613 (999)\ttotal: 58.8s\tremaining: 8m 48s\n",
      "2000:\ttest: 0.9050235\tbest: 0.9050235 (2000)\ttotal: 1m 43s\tremaining: 6m 53s\n",
      "3000:\ttest: 0.9075502\tbest: 0.9076182 (2890)\ttotal: 2m 30s\tremaining: 5m 50s\n",
      "4000:\ttest: 0.9082286\tbest: 0.9083542 (3937)\ttotal: 3m 17s\tremaining: 4m 55s\n",
      "5000:\ttest: 0.9086149\tbest: 0.9086651 (4966)\ttotal: 4m 4s\tremaining: 4m 4s\n",
      "6000:\ttest: 0.9091607\tbest: 0.9091607 (6000)\ttotal: 4m 51s\tremaining: 3m 14s\n",
      "7000:\ttest: 0.9087165\tbest: 0.9093559 (6571)\ttotal: 5m 38s\tremaining: 2m 24s\n",
      "bestTest = 0.9093559491\n",
      "bestIteration = 6571\n",
      "Shrink model to first 6572 iterations.\n",
      "\n",
      "Seed 0, Fold 1\n",
      "Learning rate set to 0.05746\n"
     ]
    },
    {
     "output_type": "stream",
     "name": "stderr",
     "text": [
      "AUC is not implemented on GPU. Will use CPU for metric computation, this could significantly affect learning time\n"
     ]
    },
    {
     "output_type": "stream",
     "name": "stdout",
     "text": [
      "0:\ttest: 0.6306776\tbest: 0.6306776 (0)\ttotal: 48ms\tremaining: 8m\n",
      "1000:\ttest: 0.9086931\tbest: 0.9087435 (982)\ttotal: 45.2s\tremaining: 6m 46s\n",
      "2000:\ttest: 0.9118026\tbest: 0.9118289 (1894)\ttotal: 1m 25s\tremaining: 5m 43s\n",
      "3000:\ttest: 0.9127597\tbest: 0.9128221 (2941)\ttotal: 2m 6s\tremaining: 4m 55s\n",
      "4000:\ttest: 0.9129919\tbest: 0.9131274 (3760)\ttotal: 2m 48s\tremaining: 4m 13s\n",
      "bestTest = 0.9131273564\n",
      "bestIteration = 3760\n",
      "Shrink model to first 3761 iterations.\n",
      "\n",
      "Seed 0, Fold 2\n",
      "Learning rate set to 0.05746\n"
     ]
    },
    {
     "output_type": "stream",
     "name": "stderr",
     "text": [
      "AUC is not implemented on GPU. Will use CPU for metric computation, this could significantly affect learning time\n"
     ]
    },
    {
     "output_type": "stream",
     "name": "stdout",
     "text": [
      "0:\ttest: 0.6284235\tbest: 0.6284235 (0)\ttotal: 88.7ms\tremaining: 14m 46s\n",
      "1000:\ttest: 0.9130946\tbest: 0.9130985 (998)\ttotal: 41.8s\tremaining: 6m 16s\n",
      "2000:\ttest: 0.9172144\tbest: 0.9172144 (2000)\ttotal: 1m 22s\tremaining: 5m 30s\n",
      "3000:\ttest: 0.9184039\tbest: 0.9184334 (2961)\ttotal: 2m 4s\tremaining: 4m 50s\n",
      "4000:\ttest: 0.9187064\tbest: 0.9188868 (3858)\ttotal: 2m 46s\tremaining: 4m 10s\n",
      "5000:\ttest: 0.9192668\tbest: 0.9194760 (4899)\ttotal: 3m 27s\tremaining: 3m 27s\n",
      "bestTest = 0.9194759814\n",
      "bestIteration = 4899\n",
      "Shrink model to first 4900 iterations.\n",
      "\n",
      "Seed 0, Fold 3\n",
      "Learning rate set to 0.05746\n"
     ]
    },
    {
     "output_type": "stream",
     "name": "stderr",
     "text": [
      "AUC is not implemented on GPU. Will use CPU for metric computation, this could significantly affect learning time\n"
     ]
    },
    {
     "output_type": "stream",
     "name": "stdout",
     "text": [
      "0:\ttest: 0.6274893\tbest: 0.6274893 (0)\ttotal: 87.1ms\tremaining: 14m 30s\n",
      "1000:\ttest: 0.9076462\tbest: 0.9076762 (997)\ttotal: 40.5s\tremaining: 6m 3s\n",
      "2000:\ttest: 0.9114720\tbest: 0.9114932 (1994)\ttotal: 1m 20s\tremaining: 5m 22s\n",
      "3000:\ttest: 0.9121710\tbest: 0.9122433 (2981)\ttotal: 2m 3s\tremaining: 4m 49s\n",
      "bestTest = 0.9122432856\n",
      "bestIteration = 2981\n",
      "Shrink model to first 2982 iterations.\n",
      "\n",
      "Seed 0, Fold 4\n",
      "Learning rate set to 0.05746\n"
     ]
    },
    {
     "output_type": "stream",
     "name": "stderr",
     "text": [
      "AUC is not implemented on GPU. Will use CPU for metric computation, this could significantly affect learning time\n"
     ]
    },
    {
     "output_type": "stream",
     "name": "stdout",
     "text": [
      "0:\ttest: 0.6169818\tbest: 0.6169818 (0)\ttotal: 64.1ms\tremaining: 10m 40s\n",
      "1000:\ttest: 0.9015505\tbest: 0.9015712 (998)\ttotal: 44.1s\tremaining: 6m 36s\n",
      "2000:\ttest: 0.9063824\tbest: 0.9063846 (1997)\ttotal: 1m 26s\tremaining: 5m 45s\n",
      "3000:\ttest: 0.9077482\tbest: 0.9077637 (2990)\ttotal: 2m 9s\tremaining: 5m 1s\n",
      "4000:\ttest: 0.9087971\tbest: 0.9088869 (3968)\ttotal: 2m 51s\tremaining: 4m 17s\n",
      "5000:\ttest: 0.9094420\tbest: 0.9097294 (4798)\ttotal: 3m 34s\tremaining: 3m 34s\n",
      "bestTest = 0.909729366\n",
      "bestIteration = 4798\n",
      "Shrink model to first 4799 iterations.\n",
      "\n",
      "Seed 0, Fold 5\n",
      "Learning rate set to 0.05746\n"
     ]
    },
    {
     "output_type": "stream",
     "name": "stderr",
     "text": [
      "AUC is not implemented on GPU. Will use CPU for metric computation, this could significantly affect learning time\n"
     ]
    },
    {
     "output_type": "stream",
     "name": "stdout",
     "text": [
      "0:\ttest: 0.6311703\tbest: 0.6311703 (0)\ttotal: 70.2ms\tremaining: 11m 42s\n",
      "1000:\ttest: 0.9010178\tbest: 0.9010239 (999)\ttotal: 43.1s\tremaining: 6m 27s\n",
      "2000:\ttest: 0.9053349\tbest: 0.9054553 (1973)\ttotal: 1m 25s\tremaining: 5m 40s\n",
      "3000:\ttest: 0.9075414\tbest: 0.9075511 (2999)\ttotal: 2m 5s\tremaining: 4m 53s\n",
      "4000:\ttest: 0.9085812\tbest: 0.9086628 (3946)\ttotal: 2m 46s\tremaining: 4m 9s\n",
      "5000:\ttest: 0.9092551\tbest: 0.9093529 (4930)\ttotal: 3m 27s\tremaining: 3m 27s\n",
      "6000:\ttest: 0.9093943\tbest: 0.9095914 (5864)\ttotal: 4m 8s\tremaining: 2m 45s\n",
      "bestTest = 0.909591395\n",
      "bestIteration = 5864\n",
      "Shrink model to first 5865 iterations.\n",
      "\n",
      "Seed 0, Fold 6\n",
      "Learning rate set to 0.05746\n"
     ]
    },
    {
     "output_type": "stream",
     "name": "stderr",
     "text": [
      "AUC is not implemented on GPU. Will use CPU for metric computation, this could significantly affect learning time\n"
     ]
    },
    {
     "output_type": "stream",
     "name": "stdout",
     "text": [
      "0:\ttest: 0.6305888\tbest: 0.6305888 (0)\ttotal: 175ms\tremaining: 29m 10s\n",
      "1000:\ttest: 0.9056213\tbest: 0.9056213 (1000)\ttotal: 40.8s\tremaining: 6m 6s\n",
      "2000:\ttest: 0.9114977\tbest: 0.9115206 (1996)\ttotal: 1m 21s\tremaining: 5m 25s\n",
      "3000:\ttest: 0.9130029\tbest: 0.9130950 (2976)\ttotal: 2m 2s\tremaining: 4m 44s\n",
      "bestTest = 0.9135751057\n",
      "bestIteration = 3413\n",
      "Shrink model to first 3414 iterations.\n",
      "\n",
      "Seed 0, Fold 7\n",
      "Learning rate set to 0.05746\n"
     ]
    },
    {
     "output_type": "stream",
     "name": "stderr",
     "text": [
      "AUC is not implemented on GPU. Will use CPU for metric computation, this could significantly affect learning time\n"
     ]
    },
    {
     "output_type": "stream",
     "name": "stdout",
     "text": [
      "0:\ttest: 0.6223396\tbest: 0.6223396 (0)\ttotal: 52.8ms\tremaining: 8m 47s\n",
      "1000:\ttest: 0.9046584\tbest: 0.9046584 (1000)\ttotal: 40.5s\tremaining: 6m 3s\n",
      "2000:\ttest: 0.9121778\tbest: 0.9122147 (1998)\ttotal: 1m 20s\tremaining: 5m 22s\n",
      "3000:\ttest: 0.9146097\tbest: 0.9146097 (3000)\ttotal: 2m 1s\tremaining: 4m 43s\n",
      "4000:\ttest: 0.9160483\tbest: 0.9160511 (3998)\ttotal: 2m 43s\tremaining: 4m 4s\n",
      "5000:\ttest: 0.9169141\tbest: 0.9169684 (4866)\ttotal: 3m 26s\tremaining: 3m 26s\n",
      "6000:\ttest: 0.9168733\tbest: 0.9171467 (5579)\ttotal: 4m 9s\tremaining: 2m 46s\n",
      "bestTest = 0.9171467098\n",
      "bestIteration = 5579\n",
      "Shrink model to first 5580 iterations.\n",
      "\n",
      "Seed 0, Fold 8\n",
      "Learning rate set to 0.05746\n"
     ]
    },
    {
     "output_type": "stream",
     "name": "stderr",
     "text": [
      "AUC is not implemented on GPU. Will use CPU for metric computation, this could significantly affect learning time\n"
     ]
    },
    {
     "output_type": "stream",
     "name": "stdout",
     "text": [
      "0:\ttest: 0.6250448\tbest: 0.6250448 (0)\ttotal: 114ms\tremaining: 19m\n",
      "1000:\ttest: 0.9118851\tbest: 0.9118904 (999)\ttotal: 43s\tremaining: 6m 26s\n",
      "2000:\ttest: 0.9160235\tbest: 0.9161143 (1956)\ttotal: 1m 26s\tremaining: 5m 45s\n",
      "3000:\ttest: 0.9171276\tbest: 0.9171651 (2982)\ttotal: 2m 10s\tremaining: 5m 5s\n",
      "4000:\ttest: 0.9174877\tbest: 0.9175358 (3966)\ttotal: 2m 52s\tremaining: 4m 19s\n",
      "5000:\ttest: 0.9175581\tbest: 0.9178559 (4749)\ttotal: 3m 36s\tremaining: 3m 36s\n",
      "bestTest = 0.9178558708\n",
      "bestIteration = 4749\n",
      "Shrink model to first 4750 iterations.\n",
      "\n",
      "Seed 0, Fold 9\n",
      "Learning rate set to 0.05746\n"
     ]
    },
    {
     "output_type": "stream",
     "name": "stderr",
     "text": [
      "AUC is not implemented on GPU. Will use CPU for metric computation, this could significantly affect learning time\n"
     ]
    },
    {
     "output_type": "stream",
     "name": "stdout",
     "text": [
      "0:\ttest: 0.6206222\tbest: 0.6206222 (0)\ttotal: 47.6ms\tremaining: 7m 56s\n",
      "1000:\ttest: 0.9082835\tbest: 0.9083143 (997)\ttotal: 41s\tremaining: 6m 8s\n",
      "2000:\ttest: 0.9126562\tbest: 0.9126600 (1998)\ttotal: 1m 21s\tremaining: 5m 26s\n",
      "3000:\ttest: 0.9138458\tbest: 0.9139643 (2800)\ttotal: 2m 3s\tremaining: 4m 47s\n",
      "4000:\ttest: 0.9145531\tbest: 0.9145541 (3999)\ttotal: 2m 49s\tremaining: 4m 13s\n",
      "bestTest = 0.9147753065\n",
      "bestIteration = 4201\n",
      "Shrink model to first 4202 iterations.\n",
      "\n",
      "Seed 42, Fold 0\n",
      "Learning rate set to 0.05746\n"
     ]
    },
    {
     "output_type": "stream",
     "name": "stderr",
     "text": [
      "AUC is not implemented on GPU. Will use CPU for metric computation, this could significantly affect learning time\n"
     ]
    },
    {
     "output_type": "stream",
     "name": "stdout",
     "text": [
      "0:\ttest: 0.6348975\tbest: 0.6348975 (0)\ttotal: 63.1ms\tremaining: 10m 30s\n",
      "1000:\ttest: 0.9199731\tbest: 0.9199731 (1000)\ttotal: 43.5s\tremaining: 6m 30s\n",
      "2000:\ttest: 0.9240995\tbest: 0.9241109 (1999)\ttotal: 1m 23s\tremaining: 5m 33s\n",
      "3000:\ttest: 0.9247992\tbest: 0.9249507 (2731)\ttotal: 2m 5s\tremaining: 4m 51s\n",
      "bestTest = 0.9251454846\n",
      "bestIteration = 3376\n",
      "Shrink model to first 3377 iterations.\n",
      "\n",
      "Seed 42, Fold 1\n",
      "Learning rate set to 0.05746\n"
     ]
    },
    {
     "output_type": "stream",
     "name": "stderr",
     "text": [
      "AUC is not implemented on GPU. Will use CPU for metric computation, this could significantly affect learning time\n"
     ]
    },
    {
     "output_type": "stream",
     "name": "stdout",
     "text": [
      "0:\ttest: 0.6220207\tbest: 0.6220207 (0)\ttotal: 62ms\tremaining: 10m 20s\n",
      "1000:\ttest: 0.9044410\tbest: 0.9044665 (991)\ttotal: 41.7s\tremaining: 6m 15s\n",
      "2000:\ttest: 0.9107536\tbest: 0.9107702 (1997)\ttotal: 1m 23s\tremaining: 5m 32s\n",
      "3000:\ttest: 0.9129377\tbest: 0.9129461 (2999)\ttotal: 2m 5s\tremaining: 4m 52s\n",
      "4000:\ttest: 0.9139925\tbest: 0.9140037 (3999)\ttotal: 2m 48s\tremaining: 4m 12s\n",
      "bestTest = 0.9143581451\n",
      "bestIteration = 4096\n",
      "Shrink model to first 4097 iterations.\n",
      "\n",
      "Seed 42, Fold 2\n",
      "Learning rate set to 0.05746\n"
     ]
    },
    {
     "output_type": "stream",
     "name": "stderr",
     "text": [
      "AUC is not implemented on GPU. Will use CPU for metric computation, this could significantly affect learning time\n"
     ]
    },
    {
     "output_type": "stream",
     "name": "stdout",
     "text": [
      "0:\ttest: 0.6338983\tbest: 0.6338983 (0)\ttotal: 36.6ms\tremaining: 6m 5s\n",
      "1000:\ttest: 0.9085354\tbest: 0.9085360 (998)\ttotal: 43s\tremaining: 6m 26s\n",
      "2000:\ttest: 0.9128248\tbest: 0.9128447 (1996)\ttotal: 1m 20s\tremaining: 5m 22s\n",
      "3000:\ttest: 0.9143208\tbest: 0.9143348 (2996)\ttotal: 2m 9s\tremaining: 5m 1s\n",
      "4000:\ttest: 0.9148026\tbest: 0.9149273 (3731)\ttotal: 2m 49s\tremaining: 4m 13s\n",
      "bestTest = 0.9149273294\n",
      "bestIteration = 3731\n",
      "Shrink model to first 3732 iterations.\n",
      "\n",
      "Seed 42, Fold 3\n",
      "Learning rate set to 0.05746\n"
     ]
    },
    {
     "output_type": "stream",
     "name": "stderr",
     "text": [
      "AUC is not implemented on GPU. Will use CPU for metric computation, this could significantly affect learning time\n"
     ]
    },
    {
     "output_type": "stream",
     "name": "stdout",
     "text": [
      "0:\ttest: 0.6233488\tbest: 0.6233488 (0)\ttotal: 38.9ms\tremaining: 6m 29s\n",
      "1000:\ttest: 0.9066652\tbest: 0.9066652 (1000)\ttotal: 42.8s\tremaining: 6m 24s\n",
      "2000:\ttest: 0.9118548\tbest: 0.9118638 (1995)\ttotal: 1m 22s\tremaining: 5m 30s\n",
      "3000:\ttest: 0.9136094\tbest: 0.9136482 (2984)\ttotal: 2m 8s\tremaining: 4m 59s\n",
      "4000:\ttest: 0.9149600\tbest: 0.9150755 (3967)\ttotal: 2m 47s\tremaining: 4m 11s\n",
      "5000:\ttest: 0.9157094\tbest: 0.9157314 (4984)\ttotal: 3m 30s\tremaining: 3m 30s\n",
      "6000:\ttest: 0.9161388\tbest: 0.9163879 (5768)\ttotal: 4m 14s\tremaining: 2m 49s\n",
      "bestTest = 0.9163879142\n",
      "bestIteration = 5768\n",
      "Shrink model to first 5769 iterations.\n",
      "\n",
      "Seed 42, Fold 4\n",
      "Learning rate set to 0.05746\n"
     ]
    },
    {
     "output_type": "stream",
     "name": "stderr",
     "text": [
      "AUC is not implemented on GPU. Will use CPU for metric computation, this could significantly affect learning time\n"
     ]
    },
    {
     "output_type": "stream",
     "name": "stdout",
     "text": [
      "0:\ttest: 0.6241453\tbest: 0.6241453 (0)\ttotal: 40ms\tremaining: 6m 39s\n",
      "1000:\ttest: 0.9041768\tbest: 0.9042088 (994)\ttotal: 39.9s\tremaining: 5m 58s\n",
      "2000:\ttest: 0.9080171\tbest: 0.9080214 (1930)\ttotal: 1m 24s\tremaining: 5m 37s\n",
      "3000:\ttest: 0.9095536\tbest: 0.9095815 (2995)\ttotal: 2m 6s\tremaining: 4m 55s\n",
      "4000:\ttest: 0.9100546\tbest: 0.9100546 (4000)\ttotal: 2m 56s\tremaining: 4m 24s\n",
      "5000:\ttest: 0.9104529\tbest: 0.9105173 (4955)\ttotal: 3m 48s\tremaining: 3m 48s\n",
      "bestTest = 0.9105173368\n",
      "bestIteration = 4955\n",
      "Shrink model to first 4956 iterations.\n",
      "\n",
      "Seed 42, Fold 5\n",
      "Learning rate set to 0.05746\n"
     ]
    },
    {
     "output_type": "stream",
     "name": "stderr",
     "text": [
      "AUC is not implemented on GPU. Will use CPU for metric computation, this could significantly affect learning time\n"
     ]
    },
    {
     "output_type": "stream",
     "name": "stdout",
     "text": [
      "0:\ttest: 0.6189409\tbest: 0.6189409 (0)\ttotal: 52.6ms\tremaining: 8m 45s\n",
      "1000:\ttest: 0.9011858\tbest: 0.9011858 (1000)\ttotal: 43s\tremaining: 6m 26s\n",
      "2000:\ttest: 0.9073807\tbest: 0.9073984 (1998)\ttotal: 1m 22s\tremaining: 5m 28s\n",
      "3000:\ttest: 0.9103929\tbest: 0.9104166 (2975)\ttotal: 1m 59s\tremaining: 4m 39s\n",
      "4000:\ttest: 0.9123315\tbest: 0.9123836 (3992)\ttotal: 2m 41s\tremaining: 4m 2s\n",
      "5000:\ttest: 0.9125980\tbest: 0.9126513 (4908)\ttotal: 3m 22s\tremaining: 3m 22s\n",
      "6000:\ttest: 0.9129421\tbest: 0.9130381 (5542)\ttotal: 4m 4s\tremaining: 2m 42s\n",
      "bestTest = 0.9130380622\n",
      "bestIteration = 5542\n",
      "Shrink model to first 5543 iterations.\n",
      "\n",
      "Seed 42, Fold 6\n",
      "Learning rate set to 0.05746\n"
     ]
    },
    {
     "output_type": "stream",
     "name": "stderr",
     "text": [
      "AUC is not implemented on GPU. Will use CPU for metric computation, this could significantly affect learning time\n"
     ]
    },
    {
     "output_type": "stream",
     "name": "stdout",
     "text": [
      "0:\ttest: 0.6190010\tbest: 0.6190010 (0)\ttotal: 42.7ms\tremaining: 7m 6s\n",
      "1000:\ttest: 0.8996202\tbest: 0.8996202 (1000)\ttotal: 41.8s\tremaining: 6m 15s\n",
      "2000:\ttest: 0.9054776\tbest: 0.9054776 (2000)\ttotal: 1m 21s\tremaining: 5m 26s\n",
      "3000:\ttest: 0.9073820\tbest: 0.9077636 (2836)\ttotal: 1m 59s\tremaining: 4m 38s\n",
      "4000:\ttest: 0.9084731\tbest: 0.9084957 (3997)\ttotal: 2m 38s\tremaining: 3m 58s\n",
      "bestTest = 0.908495713\n",
      "bestIteration = 3997\n",
      "Shrink model to first 3998 iterations.\n",
      "\n",
      "Seed 42, Fold 7\n",
      "Learning rate set to 0.05746\n"
     ]
    },
    {
     "output_type": "stream",
     "name": "stderr",
     "text": [
      "AUC is not implemented on GPU. Will use CPU for metric computation, this could significantly affect learning time\n"
     ]
    },
    {
     "output_type": "stream",
     "name": "stdout",
     "text": [
      "0:\ttest: 0.6254051\tbest: 0.6254051 (0)\ttotal: 37ms\tremaining: 6m 9s\n",
      "1000:\ttest: 0.9083262\tbest: 0.9083313 (998)\ttotal: 37.7s\tremaining: 5m 38s\n",
      "2000:\ttest: 0.9122926\tbest: 0.9123089 (1823)\ttotal: 1m 16s\tremaining: 5m 7s\n",
      "3000:\ttest: 0.9133028\tbest: 0.9133719 (2994)\ttotal: 1m 53s\tremaining: 4m 25s\n",
      "bestTest = 0.9135686213\n",
      "bestIteration = 3112\n",
      "Shrink model to first 3113 iterations.\n",
      "\n",
      "Seed 42, Fold 8\n",
      "Learning rate set to 0.05746\n"
     ]
    },
    {
     "output_type": "stream",
     "name": "stderr",
     "text": [
      "AUC is not implemented on GPU. Will use CPU for metric computation, this could significantly affect learning time\n"
     ]
    },
    {
     "output_type": "stream",
     "name": "stdout",
     "text": [
      "0:\ttest: 0.6151093\tbest: 0.6151093 (0)\ttotal: 38.4ms\tremaining: 6m 23s\n",
      "1000:\ttest: 0.8996573\tbest: 0.8996573 (1000)\ttotal: 45.3s\tremaining: 6m 46s\n",
      "2000:\ttest: 0.9049652\tbest: 0.9050024 (1977)\ttotal: 1m 25s\tremaining: 5m 43s\n",
      "3000:\ttest: 0.9072274\tbest: 0.9072747 (2970)\ttotal: 2m 6s\tremaining: 4m 55s\n",
      "4000:\ttest: 0.9080122\tbest: 0.9080823 (3916)\ttotal: 2m 48s\tremaining: 4m 11s\n",
      "5000:\ttest: 0.9083237\tbest: 0.9085202 (4614)\ttotal: 3m 27s\tremaining: 3m 27s\n",
      "bestTest = 0.9085201883\n",
      "bestIteration = 4614\n",
      "Shrink model to first 4615 iterations.\n",
      "\n",
      "Seed 42, Fold 9\n",
      "Learning rate set to 0.05746\n"
     ]
    },
    {
     "output_type": "stream",
     "name": "stderr",
     "text": [
      "AUC is not implemented on GPU. Will use CPU for metric computation, this could significantly affect learning time\n"
     ]
    },
    {
     "output_type": "stream",
     "name": "stdout",
     "text": [
      "0:\ttest: 0.6320445\tbest: 0.6320445 (0)\ttotal: 40.3ms\tremaining: 6m 42s\n",
      "1000:\ttest: 0.9054230\tbest: 0.9054230 (1000)\ttotal: 39.2s\tremaining: 5m 52s\n",
      "2000:\ttest: 0.9106032\tbest: 0.9106213 (1996)\ttotal: 1m 18s\tremaining: 5m 12s\n",
      "3000:\ttest: 0.9120023\tbest: 0.9120603 (2930)\ttotal: 1m 58s\tremaining: 4m 35s\n",
      "4000:\ttest: 0.9130444\tbest: 0.9132066 (3917)\ttotal: 2m 40s\tremaining: 4m\n",
      "5000:\ttest: 0.9132935\tbest: 0.9134737 (4786)\ttotal: 3m 19s\tremaining: 3m 19s\n",
      "bestTest = 0.9136801453\n",
      "bestIteration = 5489\n",
      "Shrink model to first 5490 iterations.\n",
      "\n",
      "Seed 888, Fold 0\n",
      "Learning rate set to 0.05746\n"
     ]
    },
    {
     "output_type": "stream",
     "name": "stderr",
     "text": [
      "AUC is not implemented on GPU. Will use CPU for metric computation, this could significantly affect learning time\n"
     ]
    },
    {
     "output_type": "stream",
     "name": "stdout",
     "text": [
      "0:\ttest: 0.6220444\tbest: 0.6220444 (0)\ttotal: 57ms\tremaining: 9m 30s\n",
      "1000:\ttest: 0.9015117\tbest: 0.9015117 (1000)\ttotal: 39.5s\tremaining: 5m 54s\n",
      "2000:\ttest: 0.9079350\tbest: 0.9079350 (2000)\ttotal: 1m 19s\tremaining: 5m 18s\n",
      "3000:\ttest: 0.9099237\tbest: 0.9100040 (2770)\ttotal: 1m 59s\tremaining: 4m 38s\n",
      "4000:\ttest: 0.9109789\tbest: 0.9110295 (3896)\ttotal: 2m 39s\tremaining: 3m 59s\n",
      "5000:\ttest: 0.9113909\tbest: 0.9114595 (4797)\ttotal: 3m 19s\tremaining: 3m 19s\n",
      "bestTest = 0.9114617757\n",
      "bestIteration = 5035\n",
      "Shrink model to first 5036 iterations.\n",
      "\n",
      "Seed 888, Fold 1\n",
      "Learning rate set to 0.05746\n"
     ]
    },
    {
     "output_type": "stream",
     "name": "stderr",
     "text": [
      "AUC is not implemented on GPU. Will use CPU for metric computation, this could significantly affect learning time\n"
     ]
    },
    {
     "output_type": "stream",
     "name": "stdout",
     "text": [
      "0:\ttest: 0.6188945\tbest: 0.6188945 (0)\ttotal: 58.3ms\tremaining: 9m 43s\n",
      "1000:\ttest: 0.9032041\tbest: 0.9032180 (993)\ttotal: 39.5s\tremaining: 5m 55s\n",
      "2000:\ttest: 0.9080160\tbest: 0.9080300 (1998)\ttotal: 1m 18s\tremaining: 5m 15s\n",
      "3000:\ttest: 0.9095357\tbest: 0.9095537 (2998)\ttotal: 1m 58s\tremaining: 4m 37s\n",
      "bestTest = 0.9096970405\n",
      "bestIteration = 3032\n",
      "Shrink model to first 3033 iterations.\n",
      "\n",
      "Seed 888, Fold 2\n",
      "Learning rate set to 0.05746\n"
     ]
    },
    {
     "output_type": "stream",
     "name": "stderr",
     "text": [
      "AUC is not implemented on GPU. Will use CPU for metric computation, this could significantly affect learning time\n"
     ]
    },
    {
     "output_type": "stream",
     "name": "stdout",
     "text": [
      "0:\ttest: 0.6201630\tbest: 0.6201630 (0)\ttotal: 109ms\tremaining: 18m 7s\n",
      "1000:\ttest: 0.9085154\tbest: 0.9085166 (998)\ttotal: 39.3s\tremaining: 5m 53s\n",
      "2000:\ttest: 0.9123349\tbest: 0.9123851 (1989)\ttotal: 1m 19s\tremaining: 5m 17s\n",
      "3000:\ttest: 0.9134873\tbest: 0.9134873 (3000)\ttotal: 1m 59s\tremaining: 4m 39s\n",
      "4000:\ttest: 0.9139195\tbest: 0.9140593 (3920)\ttotal: 2m 40s\tremaining: 4m 1s\n",
      "bestTest = 0.9141367858\n",
      "bestIteration = 4153\n",
      "Shrink model to first 4154 iterations.\n",
      "\n",
      "Seed 888, Fold 3\n",
      "Learning rate set to 0.05746\n"
     ]
    },
    {
     "output_type": "stream",
     "name": "stderr",
     "text": [
      "AUC is not implemented on GPU. Will use CPU for metric computation, this could significantly affect learning time\n"
     ]
    },
    {
     "output_type": "stream",
     "name": "stdout",
     "text": [
      "0:\ttest: 0.6346521\tbest: 0.6346521 (0)\ttotal: 65.5ms\tremaining: 10m 55s\n",
      "1000:\ttest: 0.9076191\tbest: 0.9076341 (996)\ttotal: 44.4s\tremaining: 6m 39s\n",
      "2000:\ttest: 0.9125798\tbest: 0.9126670 (1973)\ttotal: 1m 28s\tremaining: 5m 54s\n",
      "3000:\ttest: 0.9131889\tbest: 0.9133677 (2879)\ttotal: 2m 13s\tremaining: 5m 11s\n",
      "4000:\ttest: 0.9140960\tbest: 0.9141020 (3999)\ttotal: 2m 58s\tremaining: 4m 27s\n",
      "5000:\ttest: 0.9146187\tbest: 0.9147222 (4957)\ttotal: 3m 43s\tremaining: 3m 43s\n",
      "bestTest = 0.9147221557\n",
      "bestIteration = 4957\n",
      "Shrink model to first 4958 iterations.\n",
      "\n",
      "Seed 888, Fold 4\n",
      "Learning rate set to 0.05746\n"
     ]
    },
    {
     "output_type": "stream",
     "name": "stderr",
     "text": [
      "AUC is not implemented on GPU. Will use CPU for metric computation, this could significantly affect learning time\n"
     ]
    },
    {
     "output_type": "stream",
     "name": "stdout",
     "text": [
      "0:\ttest: 0.6240637\tbest: 0.6240637 (0)\ttotal: 68.3ms\tremaining: 11m 23s\n",
      "1000:\ttest: 0.9104934\tbest: 0.9104934 (1000)\ttotal: 44.6s\tremaining: 6m 40s\n",
      "2000:\ttest: 0.9150850\tbest: 0.9150850 (2000)\ttotal: 1m 27s\tremaining: 5m 51s\n",
      "3000:\ttest: 0.9169972\tbest: 0.9170775 (2972)\ttotal: 2m 10s\tremaining: 5m 3s\n",
      "4000:\ttest: 0.9177610\tbest: 0.9177977 (3677)\ttotal: 2m 52s\tremaining: 4m 18s\n",
      "bestTest = 0.9180237892\n",
      "bestIteration = 4227\n",
      "Shrink model to first 4228 iterations.\n",
      "\n",
      "Seed 888, Fold 5\n",
      "Learning rate set to 0.05746\n"
     ]
    },
    {
     "output_type": "stream",
     "name": "stderr",
     "text": [
      "AUC is not implemented on GPU. Will use CPU for metric computation, this could significantly affect learning time\n"
     ]
    },
    {
     "output_type": "stream",
     "name": "stdout",
     "text": [
      "0:\ttest: 0.6236824\tbest: 0.6236824 (0)\ttotal: 64.5ms\tremaining: 10m 45s\n",
      "1000:\ttest: 0.9083978\tbest: 0.9083978 (1000)\ttotal: 42.3s\tremaining: 6m 19s\n",
      "2000:\ttest: 0.9124808\tbest: 0.9124808 (2000)\ttotal: 1m 24s\tremaining: 5m 36s\n",
      "3000:\ttest: 0.9138844\tbest: 0.9139836 (2886)\ttotal: 2m 6s\tremaining: 4m 54s\n",
      "bestTest = 0.9140263712\n",
      "bestIteration = 3472\n",
      "Shrink model to first 3473 iterations.\n",
      "\n",
      "Seed 888, Fold 6\n",
      "Learning rate set to 0.05746\n"
     ]
    },
    {
     "output_type": "stream",
     "name": "stderr",
     "text": [
      "AUC is not implemented on GPU. Will use CPU for metric computation, this could significantly affect learning time\n"
     ]
    },
    {
     "output_type": "stream",
     "name": "stdout",
     "text": [
      "0:\ttest: 0.6267509\tbest: 0.6267509 (0)\ttotal: 62.4ms\tremaining: 10m 23s\n",
      "1000:\ttest: 0.9012780\tbest: 0.9013284 (985)\ttotal: 42.3s\tremaining: 6m 20s\n",
      "2000:\ttest: 0.9046205\tbest: 0.9046205 (2000)\ttotal: 1m 24s\tremaining: 5m 36s\n",
      "3000:\ttest: 0.9056317\tbest: 0.9057823 (2834)\ttotal: 2m 6s\tremaining: 4m 54s\n",
      "bestTest = 0.9057822564\n",
      "bestIteration = 2834\n",
      "Shrink model to first 2835 iterations.\n",
      "\n",
      "Seed 888, Fold 7\n",
      "Learning rate set to 0.05746\n"
     ]
    },
    {
     "output_type": "stream",
     "name": "stderr",
     "text": [
      "AUC is not implemented on GPU. Will use CPU for metric computation, this could significantly affect learning time\n"
     ]
    },
    {
     "output_type": "stream",
     "name": "stdout",
     "text": [
      "0:\ttest: 0.6282194\tbest: 0.6282194 (0)\ttotal: 45.5ms\tremaining: 7m 34s\n",
      "1000:\ttest: 0.9074603\tbest: 0.9074626 (999)\ttotal: 45.1s\tremaining: 6m 45s\n",
      "2000:\ttest: 0.9124929\tbest: 0.9125233 (1992)\ttotal: 1m 29s\tremaining: 5m 56s\n",
      "3000:\ttest: 0.9147752\tbest: 0.9148169 (2993)\ttotal: 2m 13s\tremaining: 5m 11s\n",
      "4000:\ttest: 0.9160016\tbest: 0.9160130 (3989)\ttotal: 2m 58s\tremaining: 4m 27s\n",
      "5000:\ttest: 0.9162657\tbest: 0.9163873 (4771)\ttotal: 3m 43s\tremaining: 3m 43s\n",
      "bestTest = 0.9163873154\n",
      "bestIteration = 4771\n",
      "Shrink model to first 4772 iterations.\n",
      "\n",
      "Seed 888, Fold 8\n",
      "Learning rate set to 0.05746\n"
     ]
    },
    {
     "output_type": "stream",
     "name": "stderr",
     "text": [
      "AUC is not implemented on GPU. Will use CPU for metric computation, this could significantly affect learning time\n"
     ]
    },
    {
     "output_type": "stream",
     "name": "stdout",
     "text": [
      "0:\ttest: 0.6212353\tbest: 0.6212353 (0)\ttotal: 100ms\tremaining: 16m 42s\n",
      "1000:\ttest: 0.9045721\tbest: 0.9045732 (998)\ttotal: 44.8s\tremaining: 6m 43s\n",
      "2000:\ttest: 0.9101980\tbest: 0.9102270 (1996)\ttotal: 1m 45s\tremaining: 7m 1s\n",
      "3000:\ttest: 0.9128394\tbest: 0.9128394 (3000)\ttotal: 2m 45s\tremaining: 6m 24s\n",
      "4000:\ttest: 0.9138987\tbest: 0.9139815 (3819)\ttotal: 3m 30s\tremaining: 5m 16s\n",
      "5000:\ttest: 0.9144466\tbest: 0.9144701 (4996)\ttotal: 4m 19s\tremaining: 4m 19s\n",
      "6000:\ttest: 0.9145847\tbest: 0.9147473 (5841)\ttotal: 5m 8s\tremaining: 3m 25s\n",
      "bestTest = 0.9147472872\n",
      "bestIteration = 5841\n",
      "Shrink model to first 5842 iterations.\n",
      "\n",
      "Seed 888, Fold 9\n",
      "Learning rate set to 0.05746\n"
     ]
    },
    {
     "output_type": "stream",
     "name": "stderr",
     "text": [
      "AUC is not implemented on GPU. Will use CPU for metric computation, this could significantly affect learning time\n"
     ]
    },
    {
     "output_type": "stream",
     "name": "stdout",
     "text": [
      "0:\ttest: 0.6231529\tbest: 0.6231529 (0)\ttotal: 46.1ms\tremaining: 7m 41s\n",
      "1000:\ttest: 0.9080667\tbest: 0.9080918 (998)\ttotal: 46.9s\tremaining: 7m 1s\n",
      "2000:\ttest: 0.9135958\tbest: 0.9135958 (2000)\ttotal: 1m 30s\tremaining: 6m\n",
      "3000:\ttest: 0.9158244\tbest: 0.9158776 (2992)\ttotal: 2m 17s\tremaining: 5m 19s\n",
      "4000:\ttest: 0.9163130\tbest: 0.9163560 (3981)\ttotal: 3m 1s\tremaining: 4m 32s\n",
      "bestTest = 0.9164704409\n",
      "bestIteration = 4073\n",
      "Shrink model to first 4074 iterations.\n",
      "\n",
      "Seed 1042, Fold 0\n",
      "Learning rate set to 0.05746\n"
     ]
    },
    {
     "output_type": "stream",
     "name": "stderr",
     "text": [
      "AUC is not implemented on GPU. Will use CPU for metric computation, this could significantly affect learning time\n"
     ]
    },
    {
     "output_type": "stream",
     "name": "stdout",
     "text": [
      "0:\ttest: 0.6259932\tbest: 0.6259932 (0)\ttotal: 53.8ms\tremaining: 8m 58s\n",
      "1000:\ttest: 0.8997915\tbest: 0.8997979 (991)\ttotal: 40.4s\tremaining: 6m 3s\n",
      "2000:\ttest: 0.9054756\tbest: 0.9055014 (1994)\ttotal: 1m 24s\tremaining: 5m 37s\n",
      "3000:\ttest: 0.9074238\tbest: 0.9075175 (2983)\ttotal: 2m 13s\tremaining: 5m 12s\n",
      "4000:\ttest: 0.9075490\tbest: 0.9075910 (3990)\ttotal: 3m 5s\tremaining: 4m 38s\n",
      "bestTest = 0.9077283982\n",
      "bestIteration = 4178\n",
      "Shrink model to first 4179 iterations.\n",
      "\n",
      "Seed 1042, Fold 1\n",
      "Learning rate set to 0.05746\n"
     ]
    },
    {
     "output_type": "stream",
     "name": "stderr",
     "text": [
      "AUC is not implemented on GPU. Will use CPU for metric computation, this could significantly affect learning time\n"
     ]
    },
    {
     "output_type": "stream",
     "name": "stdout",
     "text": [
      "0:\ttest: 0.6275602\tbest: 0.6275602 (0)\ttotal: 56.8ms\tremaining: 9m 27s\n",
      "1000:\ttest: 0.9036540\tbest: 0.9036905 (985)\ttotal: 50.4s\tremaining: 7m 33s\n",
      "2000:\ttest: 0.9074675\tbest: 0.9075026 (1977)\ttotal: 1m 47s\tremaining: 7m 7s\n",
      "3000:\ttest: 0.9086595\tbest: 0.9087170 (2942)\ttotal: 2m 27s\tremaining: 5m 43s\n",
      "4000:\ttest: 0.9091123\tbest: 0.9094047 (3851)\ttotal: 3m 7s\tremaining: 4m 41s\n",
      "bestTest = 0.9094046927\n",
      "bestIteration = 3851\n",
      "Shrink model to first 3852 iterations.\n",
      "\n",
      "Seed 1042, Fold 2\n",
      "Learning rate set to 0.05746\n"
     ]
    },
    {
     "output_type": "stream",
     "name": "stderr",
     "text": [
      "AUC is not implemented on GPU. Will use CPU for metric computation, this could significantly affect learning time\n"
     ]
    },
    {
     "output_type": "stream",
     "name": "stdout",
     "text": [
      "0:\ttest: 0.6257892\tbest: 0.6257892 (0)\ttotal: 36.2ms\tremaining: 6m 2s\n",
      "1000:\ttest: 0.9128339\tbest: 0.9128339 (1000)\ttotal: 40.3s\tremaining: 6m 2s\n",
      "2000:\ttest: 0.9182389\tbest: 0.9182461 (1996)\ttotal: 1m 18s\tremaining: 5m 12s\n",
      "3000:\ttest: 0.9203177\tbest: 0.9203287 (2998)\ttotal: 1m 56s\tremaining: 4m 30s\n",
      "4000:\ttest: 0.9209556\tbest: 0.9211159 (3510)\ttotal: 2m 34s\tremaining: 3m 51s\n",
      "bestTest = 0.9211159055\n",
      "bestIteration = 3510\n",
      "Shrink model to first 3511 iterations.\n",
      "\n",
      "Seed 1042, Fold 3\n",
      "Learning rate set to 0.05746\n"
     ]
    },
    {
     "output_type": "stream",
     "name": "stderr",
     "text": [
      "AUC is not implemented on GPU. Will use CPU for metric computation, this could significantly affect learning time\n"
     ]
    },
    {
     "output_type": "stream",
     "name": "stdout",
     "text": [
      "0:\ttest: 0.6174409\tbest: 0.6174409 (0)\ttotal: 38.2ms\tremaining: 6m 22s\n",
      "1000:\ttest: 0.9055327\tbest: 0.9055754 (997)\ttotal: 38s\tremaining: 5m 41s\n",
      "2000:\ttest: 0.9092482\tbest: 0.9092970 (1979)\ttotal: 1m 16s\tremaining: 5m 7s\n",
      "3000:\ttest: 0.9105696\tbest: 0.9105696 (3000)\ttotal: 1m 56s\tremaining: 4m 31s\n",
      "bestTest = 0.9106587614\n",
      "bestIteration = 3025\n",
      "Shrink model to first 3026 iterations.\n",
      "\n",
      "Seed 1042, Fold 4\n",
      "Learning rate set to 0.05746\n"
     ]
    },
    {
     "output_type": "stream",
     "name": "stderr",
     "text": [
      "AUC is not implemented on GPU. Will use CPU for metric computation, this could significantly affect learning time\n"
     ]
    },
    {
     "output_type": "stream",
     "name": "stdout",
     "text": [
      "0:\ttest: 0.6251308\tbest: 0.6251308 (0)\ttotal: 35.6ms\tremaining: 5m 55s\n",
      "1000:\ttest: 0.9092792\tbest: 0.9092792 (1000)\ttotal: 37.7s\tremaining: 5m 38s\n",
      "2000:\ttest: 0.9130677\tbest: 0.9130752 (1997)\ttotal: 1m 18s\tremaining: 5m 11s\n",
      "bestTest = 0.9134159159\n",
      "bestIteration = 2198\n",
      "Shrink model to first 2199 iterations.\n",
      "\n",
      "Seed 1042, Fold 5\n",
      "Learning rate set to 0.05746\n"
     ]
    },
    {
     "output_type": "stream",
     "name": "stderr",
     "text": [
      "AUC is not implemented on GPU. Will use CPU for metric computation, this could significantly affect learning time\n"
     ]
    },
    {
     "output_type": "stream",
     "name": "stdout",
     "text": [
      "0:\ttest: 0.6249465\tbest: 0.6249465 (0)\ttotal: 56.1ms\tremaining: 9m 21s\n",
      "1000:\ttest: 0.9062414\tbest: 0.9062491 (995)\ttotal: 43.4s\tremaining: 6m 29s\n",
      "2000:\ttest: 0.9115083\tbest: 0.9115083 (2000)\ttotal: 1m 24s\tremaining: 5m 38s\n",
      "3000:\ttest: 0.9131194\tbest: 0.9131456 (2889)\ttotal: 2m 2s\tremaining: 4m 45s\n",
      "4000:\ttest: 0.9141352\tbest: 0.9141476 (3870)\ttotal: 2m 41s\tremaining: 4m 1s\n",
      "5000:\ttest: 0.9145979\tbest: 0.9146177 (4922)\ttotal: 3m 20s\tremaining: 3m 19s\n",
      "6000:\ttest: 0.9145375\tbest: 0.9148826 (5657)\ttotal: 3m 59s\tremaining: 2m 39s\n",
      "bestTest = 0.9148825986\n",
      "bestIteration = 5657\n",
      "Shrink model to first 5658 iterations.\n",
      "\n",
      "Seed 1042, Fold 6\n",
      "Learning rate set to 0.05746\n"
     ]
    },
    {
     "output_type": "stream",
     "name": "stderr",
     "text": [
      "AUC is not implemented on GPU. Will use CPU for metric computation, this could significantly affect learning time\n"
     ]
    },
    {
     "output_type": "stream",
     "name": "stdout",
     "text": [
      "0:\ttest: 0.6209512\tbest: 0.6209512 (0)\ttotal: 39.5ms\tremaining: 6m 34s\n",
      "1000:\ttest: 0.9021267\tbest: 0.9021267 (1000)\ttotal: 37.4s\tremaining: 5m 36s\n",
      "2000:\ttest: 0.9078921\tbest: 0.9078930 (1999)\ttotal: 1m 16s\tremaining: 5m 4s\n",
      "3000:\ttest: 0.9099919\tbest: 0.9100878 (2963)\ttotal: 1m 54s\tremaining: 4m 28s\n",
      "4000:\ttest: 0.9108042\tbest: 0.9108224 (3981)\ttotal: 2m 34s\tremaining: 3m 50s\n",
      "5000:\ttest: 0.9107634\tbest: 0.9110374 (4509)\ttotal: 3m 13s\tremaining: 3m 13s\n",
      "bestTest = 0.9110373858\n",
      "bestIteration = 4509\n",
      "Shrink model to first 4510 iterations.\n",
      "\n",
      "Seed 1042, Fold 7\n",
      "Learning rate set to 0.05746\n"
     ]
    },
    {
     "output_type": "stream",
     "name": "stderr",
     "text": [
      "AUC is not implemented on GPU. Will use CPU for metric computation, this could significantly affect learning time\n"
     ]
    },
    {
     "output_type": "stream",
     "name": "stdout",
     "text": [
      "0:\ttest: 0.6164999\tbest: 0.6164999 (0)\ttotal: 38.4ms\tremaining: 6m 24s\n",
      "1000:\ttest: 0.9100122\tbest: 0.9100122 (1000)\ttotal: 39.1s\tremaining: 5m 51s\n",
      "2000:\ttest: 0.9152994\tbest: 0.9152994 (2000)\ttotal: 1m 17s\tremaining: 5m 11s\n",
      "3000:\ttest: 0.9170496\tbest: 0.9170989 (2987)\ttotal: 1m 57s\tremaining: 4m 33s\n",
      "4000:\ttest: 0.9177224\tbest: 0.9178281 (3942)\ttotal: 2m 36s\tremaining: 3m 54s\n",
      "5000:\ttest: 0.9180557\tbest: 0.9181346 (4965)\ttotal: 3m 16s\tremaining: 3m 16s\n",
      "bestTest = 0.91834906\n",
      "bestIteration = 5427\n",
      "Shrink model to first 5428 iterations.\n",
      "\n",
      "Seed 1042, Fold 8\n",
      "Learning rate set to 0.05746\n"
     ]
    },
    {
     "output_type": "stream",
     "name": "stderr",
     "text": [
      "AUC is not implemented on GPU. Will use CPU for metric computation, this could significantly affect learning time\n"
     ]
    },
    {
     "output_type": "stream",
     "name": "stdout",
     "text": [
      "0:\ttest: 0.6186467\tbest: 0.6186467 (0)\ttotal: 50.2ms\tremaining: 8m 22s\n",
      "1000:\ttest: 0.9043238\tbest: 0.9043545 (998)\ttotal: 46.1s\tremaining: 6m 54s\n",
      "2000:\ttest: 0.9083742\tbest: 0.9083742 (2000)\ttotal: 1m 35s\tremaining: 6m 23s\n",
      "3000:\ttest: 0.9104156\tbest: 0.9104156 (3000)\ttotal: 2m 29s\tremaining: 5m 48s\n",
      "4000:\ttest: 0.9112331\tbest: 0.9115086 (3898)\ttotal: 3m 11s\tremaining: 4m 47s\n",
      "bestTest = 0.9115086493\n",
      "bestIteration = 3898\n",
      "Shrink model to first 3899 iterations.\n",
      "\n",
      "Seed 1042, Fold 9\n",
      "Learning rate set to 0.05746\n"
     ]
    },
    {
     "output_type": "stream",
     "name": "stderr",
     "text": [
      "AUC is not implemented on GPU. Will use CPU for metric computation, this could significantly affect learning time\n"
     ]
    },
    {
     "output_type": "stream",
     "name": "stdout",
     "text": [
      "0:\ttest: 0.6289873\tbest: 0.6289873 (0)\ttotal: 36.7ms\tremaining: 6m 6s\n",
      "1000:\ttest: 0.9086450\tbest: 0.9086450 (1000)\ttotal: 39.4s\tremaining: 5m 54s\n",
      "2000:\ttest: 0.9139208\tbest: 0.9139208 (2000)\ttotal: 1m 19s\tremaining: 5m 19s\n",
      "3000:\ttest: 0.9158337\tbest: 0.9158337 (3000)\ttotal: 2m 2s\tremaining: 4m 46s\n",
      "4000:\ttest: 0.9163431\tbest: 0.9165696 (3790)\ttotal: 2m 43s\tremaining: 4m 4s\n",
      "bestTest = 0.9165695555\n",
      "bestIteration = 3790\n",
      "Shrink model to first 3791 iterations.\n",
      "\n",
      "Seed 8888, Fold 0\n",
      "Learning rate set to 0.05746\n"
     ]
    },
    {
     "output_type": "stream",
     "name": "stderr",
     "text": [
      "AUC is not implemented on GPU. Will use CPU for metric computation, this could significantly affect learning time\n"
     ]
    },
    {
     "output_type": "stream",
     "name": "stdout",
     "text": [
      "0:\ttest: 0.6217937\tbest: 0.6217937 (0)\ttotal: 39.4ms\tremaining: 6m 33s\n",
      "1000:\ttest: 0.9092099\tbest: 0.9092150 (998)\ttotal: 41.3s\tremaining: 6m 11s\n",
      "2000:\ttest: 0.9143942\tbest: 0.9144083 (1986)\ttotal: 1m 19s\tremaining: 5m 19s\n",
      "3000:\ttest: 0.9161103\tbest: 0.9163842 (2824)\ttotal: 1m 58s\tremaining: 4m 37s\n",
      "4000:\ttest: 0.9173402\tbest: 0.9173419 (3998)\ttotal: 2m 39s\tremaining: 3m 58s\n",
      "5000:\ttest: 0.9177112\tbest: 0.9178145 (4854)\ttotal: 3m 28s\tremaining: 3m 28s\n",
      "bestTest = 0.9178144554\n",
      "bestIteration = 4854\n",
      "Shrink model to first 4855 iterations.\n",
      "\n",
      "Seed 8888, Fold 1\n",
      "Learning rate set to 0.05746\n"
     ]
    },
    {
     "output_type": "stream",
     "name": "stderr",
     "text": [
      "AUC is not implemented on GPU. Will use CPU for metric computation, this could significantly affect learning time\n"
     ]
    },
    {
     "output_type": "stream",
     "name": "stdout",
     "text": [
      "0:\ttest: 0.6321918\tbest: 0.6321918 (0)\ttotal: 40.6ms\tremaining: 6m 46s\n",
      "1000:\ttest: 0.9027120\tbest: 0.9027185 (998)\ttotal: 39.3s\tremaining: 5m 53s\n",
      "2000:\ttest: 0.9088565\tbest: 0.9088650 (1984)\ttotal: 1m 17s\tremaining: 5m 10s\n",
      "3000:\ttest: 0.9108198\tbest: 0.9108198 (3000)\ttotal: 1m 56s\tremaining: 4m 31s\n",
      "4000:\ttest: 0.9120502\tbest: 0.9120544 (3997)\ttotal: 2m 35s\tremaining: 3m 53s\n",
      "5000:\ttest: 0.9127217\tbest: 0.9127243 (4978)\ttotal: 3m 16s\tremaining: 3m 16s\n",
      "bestTest = 0.9128621626\n",
      "bestIteration = 5132\n",
      "Shrink model to first 5133 iterations.\n",
      "\n",
      "Seed 8888, Fold 2\n",
      "Learning rate set to 0.05746\n"
     ]
    },
    {
     "output_type": "stream",
     "name": "stderr",
     "text": [
      "AUC is not implemented on GPU. Will use CPU for metric computation, this could significantly affect learning time\n"
     ]
    },
    {
     "output_type": "stream",
     "name": "stdout",
     "text": [
      "0:\ttest: 0.6269348\tbest: 0.6269348 (0)\ttotal: 45.1ms\tremaining: 7m 30s\n",
      "1000:\ttest: 0.8977841\tbest: 0.8978161 (993)\ttotal: 46.9s\tremaining: 7m 1s\n",
      "2000:\ttest: 0.9012803\tbest: 0.9013886 (1948)\ttotal: 1m 26s\tremaining: 5m 46s\n",
      "3000:\ttest: 0.9024773\tbest: 0.9024777 (2999)\ttotal: 2m 12s\tremaining: 5m 8s\n",
      "4000:\ttest: 0.9035486\tbest: 0.9035687 (3710)\ttotal: 2m 55s\tremaining: 4m 22s\n",
      "bestTest = 0.9035919569\n",
      "bestIteration = 4076\n",
      "Shrink model to first 4077 iterations.\n",
      "\n",
      "Seed 8888, Fold 3\n",
      "Learning rate set to 0.05746\n"
     ]
    },
    {
     "output_type": "stream",
     "name": "stderr",
     "text": [
      "AUC is not implemented on GPU. Will use CPU for metric computation, this could significantly affect learning time\n"
     ]
    },
    {
     "output_type": "stream",
     "name": "stdout",
     "text": [
      "0:\ttest: 0.6252545\tbest: 0.6252545 (0)\ttotal: 38ms\tremaining: 6m 19s\n",
      "1000:\ttest: 0.9103194\tbest: 0.9103194 (1000)\ttotal: 37.7s\tremaining: 5m 39s\n",
      "2000:\ttest: 0.9155460\tbest: 0.9155780 (1965)\ttotal: 1m 15s\tremaining: 5m 2s\n",
      "3000:\ttest: 0.9175492\tbest: 0.9176625 (2937)\ttotal: 1m 55s\tremaining: 4m 29s\n",
      "bestTest = 0.9176624812\n",
      "bestIteration = 2937\n",
      "Shrink model to first 2938 iterations.\n",
      "\n",
      "Seed 8888, Fold 4\n",
      "Learning rate set to 0.05746\n"
     ]
    },
    {
     "output_type": "stream",
     "name": "stderr",
     "text": [
      "AUC is not implemented on GPU. Will use CPU for metric computation, this could significantly affect learning time\n"
     ]
    },
    {
     "output_type": "stream",
     "name": "stdout",
     "text": [
      "0:\ttest: 0.6318260\tbest: 0.6318260 (0)\ttotal: 36.6ms\tremaining: 6m 5s\n",
      "1000:\ttest: 0.9067442\tbest: 0.9067442 (1000)\ttotal: 37.3s\tremaining: 5m 35s\n",
      "2000:\ttest: 0.9118599\tbest: 0.9118821 (1961)\ttotal: 1m 14s\tremaining: 4m 56s\n",
      "3000:\ttest: 0.9140871\tbest: 0.9140893 (2999)\ttotal: 1m 53s\tremaining: 4m 25s\n",
      "4000:\ttest: 0.9145648\tbest: 0.9148584 (3561)\ttotal: 2m 32s\tremaining: 3m 48s\n",
      "bestTest = 0.9148583845\n",
      "bestIteration = 3561\n",
      "Shrink model to first 3562 iterations.\n",
      "\n",
      "Seed 8888, Fold 5\n",
      "Learning rate set to 0.05746\n"
     ]
    },
    {
     "output_type": "stream",
     "name": "stderr",
     "text": [
      "AUC is not implemented on GPU. Will use CPU for metric computation, this could significantly affect learning time\n"
     ]
    },
    {
     "output_type": "stream",
     "name": "stdout",
     "text": [
      "0:\ttest: 0.6288447\tbest: 0.6288447 (0)\ttotal: 35.1ms\tremaining: 5m 50s\n",
      "1000:\ttest: 0.9018899\tbest: 0.9019057 (999)\ttotal: 37.3s\tremaining: 5m 35s\n",
      "2000:\ttest: 0.9071852\tbest: 0.9072049 (1997)\ttotal: 1m 21s\tremaining: 5m 27s\n",
      "3000:\ttest: 0.9095845\tbest: 0.9096409 (2962)\ttotal: 2m 5s\tremaining: 4m 51s\n",
      "4000:\ttest: 0.9110960\tbest: 0.9111371 (3993)\ttotal: 2m 45s\tremaining: 4m 8s\n",
      "bestTest = 0.9115234996\n",
      "bestIteration = 4325\n",
      "Shrink model to first 4326 iterations.\n",
      "\n",
      "Seed 8888, Fold 6\n",
      "Learning rate set to 0.05746\n"
     ]
    },
    {
     "output_type": "stream",
     "name": "stderr",
     "text": [
      "AUC is not implemented on GPU. Will use CPU for metric computation, this could significantly affect learning time\n"
     ]
    },
    {
     "output_type": "stream",
     "name": "stdout",
     "text": [
      "0:\ttest: 0.6214072\tbest: 0.6214072 (0)\ttotal: 39.9ms\tremaining: 6m 39s\n",
      "1000:\ttest: 0.9082443\tbest: 0.9082468 (998)\ttotal: 38.2s\tremaining: 5m 43s\n",
      "2000:\ttest: 0.9121789\tbest: 0.9121789 (2000)\ttotal: 1m 17s\tremaining: 5m 11s\n",
      "bestTest = 0.9132107156\n",
      "bestIteration = 2481\n",
      "Shrink model to first 2482 iterations.\n",
      "\n",
      "Seed 8888, Fold 7\n",
      "Learning rate set to 0.05746\n"
     ]
    },
    {
     "output_type": "stream",
     "name": "stderr",
     "text": [
      "AUC is not implemented on GPU. Will use CPU for metric computation, this could significantly affect learning time\n"
     ]
    },
    {
     "output_type": "stream",
     "name": "stdout",
     "text": [
      "0:\ttest: 0.6246847\tbest: 0.6246847 (0)\ttotal: 127ms\tremaining: 21m 8s\n",
      "1000:\ttest: 0.9138235\tbest: 0.9139048 (995)\ttotal: 40.4s\tremaining: 6m 3s\n",
      "2000:\ttest: 0.9191859\tbest: 0.9192712 (1969)\ttotal: 1m 23s\tremaining: 5m 35s\n",
      "3000:\ttest: 0.9207275\tbest: 0.9207735 (2976)\ttotal: 2m 4s\tremaining: 4m 51s\n",
      "4000:\ttest: 0.9216955\tbest: 0.9216955 (4000)\ttotal: 2m 43s\tremaining: 4m 5s\n",
      "bestTest = 0.9217032706\n",
      "bestIteration = 4002\n",
      "Shrink model to first 4003 iterations.\n",
      "\n",
      "Seed 8888, Fold 8\n",
      "Learning rate set to 0.05746\n"
     ]
    },
    {
     "output_type": "stream",
     "name": "stderr",
     "text": [
      "AUC is not implemented on GPU. Will use CPU for metric computation, this could significantly affect learning time\n"
     ]
    },
    {
     "output_type": "stream",
     "name": "stdout",
     "text": [
      "0:\ttest: 0.6206418\tbest: 0.6206418 (0)\ttotal: 92.9ms\tremaining: 15m 28s\n",
      "1000:\ttest: 0.9079730\tbest: 0.9079730 (1000)\ttotal: 40.8s\tremaining: 6m 6s\n",
      "2000:\ttest: 0.9132585\tbest: 0.9132763 (1992)\ttotal: 1m 20s\tremaining: 5m 20s\n",
      "3000:\ttest: 0.9153074\tbest: 0.9153226 (2999)\ttotal: 1m 59s\tremaining: 4m 39s\n",
      "4000:\ttest: 0.9160430\tbest: 0.9161417 (3823)\ttotal: 2m 38s\tremaining: 3m 58s\n",
      "bestTest = 0.9161993334\n",
      "bestIteration = 4340\n",
      "Shrink model to first 4341 iterations.\n",
      "\n",
      "Seed 8888, Fold 9\n",
      "Learning rate set to 0.05746\n"
     ]
    },
    {
     "output_type": "stream",
     "name": "stderr",
     "text": [
      "AUC is not implemented on GPU. Will use CPU for metric computation, this could significantly affect learning time\n"
     ]
    },
    {
     "output_type": "stream",
     "name": "stdout",
     "text": [
      "0:\ttest: 0.6279490\tbest: 0.6279490 (0)\ttotal: 39.2ms\tremaining: 6m 32s\n",
      "1000:\ttest: 0.8992958\tbest: 0.8992958 (1000)\ttotal: 39s\tremaining: 5m 50s\n",
      "2000:\ttest: 0.9040554\tbest: 0.9040773 (1998)\ttotal: 1m 17s\tremaining: 5m 9s\n",
      "3000:\ttest: 0.9066260\tbest: 0.9066761 (2977)\ttotal: 1m 56s\tremaining: 4m 30s\n",
      "4000:\ttest: 0.9072328\tbest: 0.9072791 (3947)\ttotal: 2m 33s\tremaining: 3m 50s\n",
      "5000:\ttest: 0.9078454\tbest: 0.9078769 (4990)\ttotal: 3m 11s\tremaining: 3m 11s\n",
      "bestTest = 0.9078768918\n",
      "bestIteration = 4990\n",
      "Shrink model to first 4991 iterations.\n"
     ]
    }
   ],
   "metadata": {}
  },
  {
   "cell_type": "code",
   "execution_count": 29,
   "source": [
    "m = models[(SEEDS[0],0)]\r\n",
    "fea_imp = pd.DataFrame({'importance': m.feature_importances_,\r\n",
    "                        'col': m.feature_names_})\r\n",
    "fea_imp = fea_imp.sort_values(['importance', 'col'],\r\n",
    "                               ascending=[True, False]).iloc[-40:]\r\n",
    "fea_imp.plot(kind='barh', x='col', y='importance', figsize=(20, 20))"
   ],
   "outputs": [
    {
     "output_type": "execute_result",
     "data": {
      "text/plain": [
       "<AxesSubplot:ylabel='col'>"
      ]
     },
     "metadata": {},
     "execution_count": 29
    },
    {
     "output_type": "display_data",
     "data": {
      "image/png": "[encoded data removed]",
      "text/plain": [
       "<Figure size 1440x1440 with 1 Axes>"
      ]
     },
     "metadata": {
      "needs_background": "light"
     }
    }
   ],
   "metadata": {}
  },
  {
   "cell_type": "code",
   "execution_count": 32,
   "source": [
    "y_pred_train = np.array([models[(SEEDS[0],0)].classes_[x] for x in oof_train.argmax(axis=1)])\r\n",
    "print(f\"balanced accuracy: {balanced_accuracy_score(y_train, y_pred_train)}\")\r\n",
    "class_rate = classification_rate(y_train, y_pred_train)\r\n",
    "print(f\"classification rate: {class_rate}\")"
   ],
   "outputs": [
    {
     "output_type": "stream",
     "name": "stdout",
     "text": [
      "balanced accuracy: 0.6543577509239386\n",
      "classification rate: 0.8102693602693603\n"
     ]
    }
   ],
   "metadata": {}
  },
  {
   "cell_type": "code",
   "execution_count": 25,
   "source": [
    "y_pred = np.array([models[(SEEDS[0],0)].classes_[x] for x in oof_test.argmax(axis=1)])\r\n",
    "sub = pd.read_csv(\"data/SubmissionFormat.csv\", index_col='id')\r\n",
    "sub['status_group'] = y_pred\r\n",
    "sub.to_csv(f\"submissions/submission_catboost_{round(class_rate, 4)}.csv\", index=True)"
   ],
   "outputs": [],
   "metadata": {}
  },
  {
   "cell_type": "code",
   "execution_count": null,
   "source": [],
   "outputs": [],
   "metadata": {}
  }
 ],
 "metadata": {
  "orig_nbformat": 4,
  "language_info": {
   "name": "python",
   "version": "3.7.10",
   "mimetype": "text/x-python",
   "codemirror_mode": {
    "name": "ipython",
    "version": 3
   },
   "pygments_lexer": "ipython3",
   "nbconvert_exporter": "python",
   "file_extension": ".py"
  },
  "kernelspec": {
   "name": "python3",
   "display_name": "Python 3.7.10 64-bit ('pyTorchEnv': conda)"
  },
  "interpreter": {
   "hash": "08465013b2823437a432090d36168a052ea896abae7de49d932d83247487b1e3"
  }
 },
 "nbformat": 4,
 "nbformat_minor": 2
}